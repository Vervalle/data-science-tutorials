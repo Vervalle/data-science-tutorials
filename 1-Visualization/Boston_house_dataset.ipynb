{
 "cells": [
  {
   "cell_type": "markdown",
   "metadata": {},
   "source": [
    "## Setting up IPython Notebook\n",
    "The code below simply sets up ipython notebook and displays graphs inline (e.g. as HTML)"
   ]
  },
  {
   "cell_type": "code",
   "execution_count": 1,
   "metadata": {
    "collapsed": false
   },
   "outputs": [
    {
     "name": "stdout",
     "output_type": "stream",
     "text": [
      "Populating the interactive namespace from numpy and matplotlib\n"
     ]
    }
   ],
   "source": [
    "%pylab inline"
   ]
  },
  {
   "cell_type": "markdown",
   "metadata": {},
   "source": [
    "## Importing Stuff, data set preparation\n",
    "Next, we import sklearn (must be installed on your system when you run this notebook) and load the data set from sklearn.datasets"
   ]
  },
  {
   "cell_type": "code",
   "execution_count": 2,
   "metadata": {
    "collapsed": true
   },
   "outputs": [],
   "source": [
    "import numpy as np\n",
    "import sklearn.datasets as datasets\n",
    "ds = datasets.load_boston()"
   ]
  },
  {
   "cell_type": "code",
   "execution_count": 3,
   "metadata": {
    "collapsed": false
   },
   "outputs": [
    {
     "data": {
      "text/plain": [
       "array([[  6.32000000e-03,   1.80000000e+01,   2.31000000e+00, ...,\n",
       "          1.53000000e+01,   3.96900000e+02,   4.98000000e+00],\n",
       "       [  2.73100000e-02,   0.00000000e+00,   7.07000000e+00, ...,\n",
       "          1.78000000e+01,   3.96900000e+02,   9.14000000e+00],\n",
       "       [  2.72900000e-02,   0.00000000e+00,   7.07000000e+00, ...,\n",
       "          1.78000000e+01,   3.92830000e+02,   4.03000000e+00],\n",
       "       ..., \n",
       "       [  6.07600000e-02,   0.00000000e+00,   1.19300000e+01, ...,\n",
       "          2.10000000e+01,   3.96900000e+02,   5.64000000e+00],\n",
       "       [  1.09590000e-01,   0.00000000e+00,   1.19300000e+01, ...,\n",
       "          2.10000000e+01,   3.93450000e+02,   6.48000000e+00],\n",
       "       [  4.74100000e-02,   0.00000000e+00,   1.19300000e+01, ...,\n",
       "          2.10000000e+01,   3.96900000e+02,   7.88000000e+00]])"
      ]
     },
     "execution_count": 3,
     "metadata": {},
     "output_type": "execute_result"
    }
   ],
   "source": [
    "#that is the data \n",
    "ds.data"
   ]
  },
  {
   "cell_type": "code",
   "execution_count": 4,
   "metadata": {
    "collapsed": false
   },
   "outputs": [
    {
     "data": {
      "text/plain": [
       "(506, 13)"
      ]
     },
     "execution_count": 4,
     "metadata": {},
     "output_type": "execute_result"
    }
   ],
   "source": [
    "#it has 13 attributes or features and 506 data points\n",
    "ds.data.shape"
   ]
  },
  {
   "cell_type": "code",
   "execution_count": 5,
   "metadata": {
    "collapsed": false
   },
   "outputs": [
    {
     "data": {
      "text/plain": [
       "array(['CRIM', 'ZN', 'INDUS', 'CHAS', 'NOX', 'RM', 'AGE', 'DIS', 'RAD',\n",
       "       'TAX', 'PTRATIO', 'B', 'LSTAT'], \n",
       "      dtype='<U7')"
      ]
     },
     "execution_count": 5,
     "metadata": {},
     "output_type": "execute_result"
    }
   ],
   "source": [
    "#and here are the feautre names. note that the last feature name is the target\n",
    "ds.feature_names"
   ]
  },
  {
   "cell_type": "code",
   "execution_count": 6,
   "metadata": {
    "collapsed": false
   },
   "outputs": [
    {
     "data": {
      "text/plain": [
       "(506,)"
      ]
     },
     "execution_count": 6,
     "metadata": {},
     "output_type": "execute_result"
    }
   ],
   "source": [
    "#here are the target values for the 506 data points\n",
    "ds.target.shape"
   ]
  },
  {
   "cell_type": "code",
   "execution_count": 7,
   "metadata": {
    "collapsed": false
   },
   "outputs": [
    {
     "name": "stderr",
     "output_type": "stream",
     "text": [
      "/root/anaconda3/lib/python3.5/site-packages/matplotlib/figure.py:402: UserWarning: matplotlib is currently using a non-GUI backend, so cannot show the figure\n",
      "  \"matplotlib is currently using a non-GUI backend, \"\n"
     ]
    },
    {
     "name": "stdout",
     "output_type": "stream",
     "text": [
      "Boston House Prices dataset\n",
      "===========================\n",
      "\n",
      "Notes\n",
      "------\n",
      "Data Set Characteristics:  \n",
      "\n",
      "    :Number of Instances: 506 \n",
      "\n",
      "    :Number of Attributes: 13 numeric/categorical predictive\n",
      "    \n",
      "    :Median Value (attribute 14) is usually the target\n",
      "\n",
      "    :Attribute Information (in order):\n",
      "        - CRIM     per capita crime rate by town\n",
      "        - ZN       proportion of residential land zoned for lots over 25,000 sq.ft.\n",
      "        - INDUS    proportion of non-retail business acres per town\n",
      "        - CHAS     Charles River dummy variable (= 1 if tract bounds river; 0 otherwise)\n",
      "        - NOX      nitric oxides concentration (parts per 10 million)\n",
      "        - RM       average number of rooms per dwelling\n",
      "        - AGE      proportion of owner-occupied units built prior to 1940\n",
      "        - DIS      weighted distances to five Boston employment centres\n",
      "        - RAD      index of accessibility to radial highways\n",
      "        - TAX      full-value property-tax rate per $10,000\n",
      "        - PTRATIO  pupil-teacher ratio by town\n",
      "        - B        1000(Bk - 0.63)^2 where Bk is the proportion of blacks by town\n",
      "        - LSTAT    % lower status of the population\n",
      "        - MEDV     Median value of owner-occupied homes in $1000's\n",
      "\n",
      "    :Missing\n"
     ]
    },
    {
     "data": {
      "image/png": "[encoded data removed]",
      "text/plain": [
       "<matplotlib.figure.Figure at 0x7ff0b12cd358>"
      ]
     },
     "metadata": {},
     "output_type": "display_data"
    },
    {
     "data": {
      "image/png": "[encoded data removed]",
      "text/plain": [
       "<matplotlib.figure.Figure at 0x7ff0adb46908>"
      ]
     },
     "metadata": {},
     "output_type": "display_data"
    },
    {
     "data": {
      "image/png": "[encoded data removed]",
      "text/plain": [
       "<matplotlib.figure.Figure at 0x7ff0ada68048>"
      ]
     },
     "metadata": {},
     "output_type": "display_data"
    },
    {
     "data": {
      "image/png": "[encoded data removed]",
      "text/plain": [
       "<matplotlib.figure.Figure at 0x7ff0ada3e5c0>"
      ]
     },
     "metadata": {},
     "output_type": "display_data"
    },
    {
     "data": {
      "image/png": "[encoded data removed]",
      "text/plain": [
       "<matplotlib.figure.Figure at 0x7ff0ad9a83c8>"
      ]
     },
     "metadata": {},
     "output_type": "display_data"
    },
    {
     "data": {
      "image/png": "[encoded data removed]",
      "text/plain": [
       "<matplotlib.figure.Figure at 0x7ff0ad9837f0>"
      ]
     },
     "metadata": {},
     "output_type": "display_data"
    },
    {
     "data": {
      "image/png": "[encoded data removed]",
      "text/plain": [
       "<matplotlib.figure.Figure at 0x7ff0ad8e4b38>"
      ]
     },
     "metadata": {},
     "output_type": "display_data"
    },
    {
     "data": {
      "image/png": "[encoded data removed]",
      "text/plain": [
       "<matplotlib.figure.Figure at 0x7ff0ad8bf1d0>"
      ]
     },
     "metadata": {},
     "output_type": "display_data"
    },
    {
     "data": {
      "image/png": "[encoded data removed]",
      "text/plain": [
       "<matplotlib.figure.Figure at 0x7ff0ad822898>"
      ]
     },
     "metadata": {},
     "output_type": "display_data"
    },
    {
     "data": {
      "image/png": "[encoded data removed]",
      "text/plain": [
       "<matplotlib.figure.Figure at 0x7ff0ad80c390>"
      ]
     },
     "metadata": {},
     "output_type": "display_data"
    },
    {
     "data": {
      "image/png": "[encoded data removed]",
      "text/plain": [
       "<matplotlib.figure.Figure at 0x7ff0ad762eb8>"
      ]
     },
     "metadata": {},
     "output_type": "display_data"
    },
    {
     "data": {
      "image/png": "[encoded data removed]",
      "text/plain": [
       "<matplotlib.figure.Figure at 0x7ff0ad7de7b8>"
      ]
     },
     "metadata": {},
     "output_type": "display_data"
    },
    {
     "data": {
      "image/png": "[encoded data removed]",
      "text/plain": [
       "<matplotlib.figure.Figure at 0x7ff0ad665c88>"
      ]
     },
     "metadata": {},
     "output_type": "display_data"
    }
   ],
   "source": [
    "for i in range(ds.data.shape[1]):\n",
    "    fig = figure()\n",
    "    ax1 = fig.add_subplot(1,1,1)\n",
    "    ax1.boxplot(ds.data[:,i],vert=False)\n",
    "    ax1.set_title(\"Boston Housing Data \"+ds.feature_names[i])\n",
    "    ax1.set_yticklabels(ds.feature_names[i])\n",
    "    fig.show()\n",
    "\n",
    "print (ds.DESCR[:1236])"
   ]
  },
  {
   "cell_type": "markdown",
   "metadata": {},
   "source": [
    "## Boston Housing and LMS\n",
    "\n",
    "  * Now apply the lms on the Boston Housing Data\n",
    "  * Estimate the \"goodness of fit\" through the sum squared error between prediction and original\n",
    "  "
   ]
  },
  {
   "cell_type": "markdown",
   "metadata": {},
   "source": [
    "### Determining House Prices\n",
    "\n",
    "Consider that you get a good Job in Boston and that you want to buy a house there. Not for all regions the median value of houses is known, so you want to find a method that allows you to judge the value of a house and to see whether estate agent tries to fool you (or not).\n",
    "\n",
    "The Boston Housing data contains such attributes in order to estimate the value of a region in the Boston suburps.  Variables are\n",
    "\n",
    "1. CRIM: per capita crime rate by town \n",
    "2. ZN: proportion of residential land zoned for lots over 25,000 sq.ft. \n",
    "3. INDUS: proportion of non-retail business acres per town \n",
    "4. CHAS: Charles River dummy variable (= 1 if tract bounds river; 0 otherwise) \n",
    "5. NOX: nitric oxides concentration (parts per 10 million) \n",
    "6. RM: average number of rooms per dwelling \n",
    "7. AGE: proportion of owner-occupied units built prior to 1940 \n",
    "8. DIS: weighted distances to five Boston employment centres \n",
    "9. RAD: index of accessibility to radial highways \n",
    "9. TAX: full-value property-tax rate per \\$10,000 \n",
    "9. PTRATIO: pupil-teacher ratio by town \n",
    "9. B: $1000(Bk - 0.63)^2$ where Bk is the proportion of blacks by town \n",
    "9. LSTAT: % lower status of the population \n",
    "9. MEDV: Median value of owner-occupied homes in \\$1000's\n",
    "\n",
    "Attribute number 14. is the dependent variable or target attribute, i.e. the variable we want to predcit. Pracically we want to learn a function\n",
    "\n",
    "$ MEDV = f(CRIM, ZN, INDUS, CHAS, NOX, RM, AGE, DIS, RAD, TAX, PTRATIO, B, LSTAT) $\n",
    "\n",
    "or when we take $x$ as a vector of the attributes we simply write\n",
    "\n",
    "$MEDV = f(x)$"
   ]
  },
  {
   "cell_type": "code",
   "execution_count": 9,
   "metadata": {
    "collapsed": true
   },
   "outputs": [],
   "source": [
    "def lms(data,eta=0.1, iterations=1000, bias=True):\n",
    "    \"\"\"\n",
    "    data: tuple containing the data matrix x and target values c(x)\n",
    "    eta: learning rate. default is 0.1\n",
    "    bias: True, if a bias term should be included\n",
    "    iterations: do some fixed amount of iterations. no need for more sophisticated stopping criterions\n",
    "    \"\"\"\n",
    "    target = data[1]\n",
    "    data = data[0]\n",
    "    dim = data.shape[1]         # get the number of attributes/features\n",
    "    num_points = data.shape[0]\n",
    "    if bias:                    # when considering the bias term we have to add w_0\n",
    "        dim+=1\n",
    "        data = np.concatenate(\n",
    "                [\n",
    "                 data, \n",
    "                 np.ones(num_points).reshape(num_points,1)\n",
    "                ]\n",
    "                ,axis=1)    # add bias term as attribute with value 1 for every data point\n",
    "    w = np.ones(dim)    # that is the weight vector as column vector    \n",
    "    for i in range(iterations):\n",
    "        next = np.random.randint(num_points)  #next example to work on\n",
    "        predict = np.dot(data[next,],w)       #predict the value of next based on the current hypothesis\n",
    "        error = target[next]-predict          # estimate the error\n",
    "        w = w + eta*error*data[next,]         # inner loop is done by numpy\n",
    "    \n",
    "    return w"
   ]
  },
  {
   "cell_type": "code",
   "execution_count": 10,
   "metadata": {
    "collapsed": false
   },
   "outputs": [
    {
     "name": "stdout",
     "output_type": "stream",
     "text": [
      "Weights: [-0.12171627  0.10265649  0.29408602  1.02313009  1.0012983   1.28701595\n",
      "  0.10043993  0.73311132  0.52965397 -0.03023934  0.4649555   0.02060137\n",
      " -0.76179036  1.00780485]\n",
      "Some better output (using python magic)\n",
      "CRIM \t -0.121716269954\n",
      "ZN \t 0.102656487238\n",
      "INDUS \t 0.294086021137\n",
      "CHAS \t 1.02313009445\n",
      "NOX \t 1.00129829511\n",
      "RM \t 1.28701594931\n",
      "AGE \t 0.100439929353\n",
      "DIS \t 0.733111317243\n",
      "RAD \t 0.529653968975\n",
      "TAX \t -0.0302393396845\n",
      "PTRATIO \t 0.464955501114\n",
      "B \t 0.0206013722715\n",
      "w0 \t -0.76179036177\n"
     ]
    }
   ],
   "source": [
    "data_zipped = (ds.data,ds.target)\n",
    "w = lms(data_zipped,iterations=100000,eta=0.000001)\n",
    "print (\"Weights:\", w)\n",
    "print (\"Some better output (using python magic)\")\n",
    "for (feature,weight) in zip(ds.feature_names[0:12].tolist()+[\"w0\"],w): print (feature,\"\\t\",weight)"
   ]
  },
  {
   "cell_type": "markdown",
   "metadata": {},
   "source": [
    "Again, we have to tune $\\eta$ in order to avoid divergence. This strongly depends on the scale of the attributes, i.e. large attributes yield large updates. So lets take a look on the scale of the attributes:"
   ]
  },
  {
   "cell_type": "code",
   "execution_count": 11,
   "metadata": {
    "collapsed": false
   },
   "outputs": [
    {
     "name": "stdout",
     "output_type": "stream",
     "text": [
      "['CRIM' 'ZN' 'INDUS' 'CHAS' 'NOX' 'RM' 'AGE' 'DIS' 'RAD' 'TAX' 'PTRATIO'\n",
      " 'B' 'LSTAT']\n",
      "[  6.32000000e-03   0.00000000e+00   4.60000000e-01   0.00000000e+00\n",
      "   3.85000000e-01   3.56100000e+00   2.90000000e+00   1.12960000e+00\n",
      "   1.00000000e+00   1.87000000e+02   1.26000000e+01   3.20000000e-01\n",
      "   1.73000000e+00]\n",
      "[  88.9762  100.       27.74      1.        0.871     8.78    100.\n",
      "   12.1265   24.      711.       22.      396.9      37.97  ]\n"
     ]
    }
   ],
   "source": [
    "print (ds.feature_names)\n",
    "print (np.min(ds.data,axis=0))\n",
    "print (np.max(ds.data,axis=0))"
   ]
  },
  {
   "cell_type": "markdown",
   "metadata": {},
   "source": [
    "### Normalizing Attributes\n",
    "In order to enhance parameter settings (in particular $\\eta$) and to improve convergence we can rescale (aka centering/standardising) the data set by dividing each attribute through its range ($=max-min$) and subtracting the minimum $min$:\n",
    "\n",
    "$$\n",
    "  X = \\frac{X-min(X)}{(max(X)-min(X)}\n",
    "$$\n",
    "\n",
    "with $max(X)$ and $min(X)$ are column vectors containing the minimum and maximum values of an attribute and / being the element wise division. Such scaling/centering should be part of every preprocessing, as discussed in the Lecture [On the Data](http://www.uni-weimar.de/medien/webis/teaching/lecturenotes/machine-learning/unit-en-data.pdf)\n",
    "\n",
    "Hence, the attributes are scaled within the range [0:1]"
   ]
  },
  {
   "cell_type": "code",
   "execution_count": 12,
   "metadata": {
    "collapsed": false
   },
   "outputs": [
    {
     "name": "stdout",
     "output_type": "stream",
     "text": [
      "[[  0.00000000e+00   1.80000000e-01   6.78152493e-02 ...,   2.87234043e-01\n",
      "    1.00000000e+00   8.96799117e-02]\n",
      " [  2.35922539e-04   0.00000000e+00   2.42302053e-01 ...,   5.53191489e-01\n",
      "    1.00000000e+00   2.04470199e-01]\n",
      " [  2.35697744e-04   0.00000000e+00   2.42302053e-01 ...,   5.53191489e-01\n",
      "    9.89737254e-01   6.34657837e-02]\n",
      " ..., \n",
      " [  6.11892474e-04   0.00000000e+00   4.20454545e-01 ...,   8.93617021e-01\n",
      "    1.00000000e+00   1.07891832e-01]\n",
      " [  1.16072990e-03   0.00000000e+00   4.20454545e-01 ...,   8.93617021e-01\n",
      "    9.91300620e-01   1.31070640e-01]\n",
      " [  4.61841693e-04   0.00000000e+00   4.20454545e-01 ...,   8.93617021e-01\n",
      "    1.00000000e+00   1.69701987e-01]]\n"
     ]
    }
   ],
   "source": [
    "X = ds.data\n",
    "Y = ds.target\n",
    "X_scaled = (X-np.min(X,axis=0))/(np.max(X,axis=0)-np.min(X,axis=0))\n",
    "print (X_scaled)"
   ]
  },
  {
   "cell_type": "markdown",
   "metadata": {},
   "source": [
    "### Plotting the Distributions\n",
    "[Boxplots](http://en.wikipedia.org/wiki/Box_plot) are a good way to show the distribution of attributes in data. Lets compare X and its scaled Version $X_{scale}$\n"
   ]
  },
  {
   "cell_type": "code",
   "execution_count": 13,
   "metadata": {
    "collapsed": false
   },
   "outputs": [
    {
     "name": "stderr",
     "output_type": "stream",
     "text": [
      "/root/anaconda3/lib/python3.5/site-packages/matplotlib/figure.py:402: UserWarning: matplotlib is currently using a non-GUI backend, so cannot show the figure\n",
      "  \"matplotlib is currently using a non-GUI backend, \"\n"
     ]
    },
    {
     "data": {
      "image/png": "[encoded data removed]",
      "text/plain": [
       "<matplotlib.figure.Figure at 0x7ff0ad4f2ef0>"
      ]
     },
     "metadata": {},
     "output_type": "display_data"
    }
   ],
   "source": [
    "fig = figure()\n",
    "ax1 = fig.add_subplot(2,1,1)\n",
    "ax1.boxplot(X,vert=False)\n",
    "ax2 = fig.add_subplot(2,1,2)\n",
    "ax2.boxplot(X_scaled,vert=False)\n",
    "ax2.set_title(\"Scaled Data\")\n",
    "ax1.set_title(\"Raw Data\")\n",
    "ax2.set_yticklabels(ds.feature_names[0:12])\n",
    "ax1.set_yticklabels(ds.feature_names[0:12])\n",
    "fig.show()"
   ]
  },
  {
   "cell_type": "markdown",
   "metadata": {},
   "source": [
    "Watch the scales on the x-axis. The distribution of an attribute does not change (see for example TAX), but all attributes are now in the same range.\n",
    "\n",
    "Scaled data allows for robuster parameter settings and faster convergence:\n"
   ]
  },
  {
   "cell_type": "code",
   "execution_count": 14,
   "metadata": {
    "collapsed": false
   },
   "outputs": [
    {
     "name": "stdout",
     "output_type": "stream",
     "text": [
      "Weights: [ -3.28666617   2.88756839  -0.21737581   3.20329509  -2.92425854\n",
      "  24.02260516   1.26106557  -6.31016195   4.20995031  -3.70332985\n",
      "  -7.222657     5.72303367 -16.96572221  16.26518302]\n",
      "Some better output (using python magic)\n",
      "CRIM \t -3.28666617428\n",
      "ZN \t 2.88756839219\n",
      "INDUS \t -0.217375808213\n",
      "CHAS \t 3.20329508878\n",
      "NOX \t -2.9242585421\n",
      "RM \t 24.0226051579\n",
      "AGE \t 1.26106556687\n",
      "DIS \t -6.31016194988\n",
      "RAD \t 4.20995030955\n",
      "TAX \t -3.70332985479\n",
      "PTRATIO \t -7.22265700082\n",
      "B \t 5.72303367025\n",
      "w0 \t -16.9657222102\n"
     ]
    }
   ],
   "source": [
    "data_zipped = (X_scaled,ds.target)\n",
    "w = lms(data_zipped,iterations=100000,eta=0.001)\n",
    "print (\"Weights:\", w)\n",
    "print (\"Some better output (using python magic)\")\n",
    "for (feature,weight) in zip(ds.feature_names[0:12].tolist()+[\"w0\"],w): print (feature,\"\\t\",weight)"
   ]
  }
 ],
 "metadata": {
  "anaconda-cloud": {},
  "kernelspec": {
   "display_name": "Python 3",
   "language": "python",
   "name": "python3"
  },
  "language_info": {
   "codemirror_mode": {
    "name": "ipython",
    "version": 3
   },
   "file_extension": ".py",
   "mimetype": "text/x-python",
   "name": "python",
   "nbconvert_exporter": "python",
   "pygments_lexer": "ipython3",
   "version": "3.5.2"
  },
  "toc": {
   "colors": {
    "hover_highlight": "#DAA520",
    "running_highlight": "#FF0000",
    "selected_highlight": "#FFD700"
   },
   "moveMenuLeft": true,
   "nav_menu": {
    "height": "123px",
    "width": "252px"
   },
   "navigate_menu": true,
   "number_sections": true,
   "sideBar": true,
   "threshold": 4,
   "toc_cell": false,
   "toc_section_display": "block",
   "toc_window_display": false
  }
 },
 "nbformat": 4,
 "nbformat_minor": 2
}
