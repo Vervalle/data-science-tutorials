{
 "cells": [
  {
   "cell_type": "markdown",
   "metadata": {},
   "source": [
    "## KDD cup Dataset\n",
    "\n",
    "TODO modify description\n",
    "\n",
    "We have used KDD cup2012 track2 dataset for our evaluation.\n",
    "There are total 6 data files\n",
    "\n",
    "1. training.txt\n",
    "2. queryid_tokensid.txt\n",
    "3. userid_profile.txt\n",
    "4. titleid_tokensid.txt\n",
    "5. purchasedkeywordid_tokensid.txt\n",
    "6. descriptionid_tokensid.txt\n",
    "\n",
    "Please follow below link to check how different files are mapped to each other.\n",
    "\n",
    "https://github.com/zieglerk/LODA-lecture-notes-on-data-analysis/blob/master/II.ML-and-DM/images/Kddcup_database.png\n",
    "\n",
    "For below example we have worked on smaller dataset (first 100 records), we have merged training.txt and userid_profile.txt, please check below link to see the data.\n",
    "\n",
    "https://github.com/zieglerk/LODA-lecture-notes-on-data-analysis/blob/master/II.ML-and-DM/Kddcup_data.txt\n",
    "\n",
    "\n",
    "### Setting up IPython Notebook\n",
    "\n",
    "The code below simply sets up ipython notebook and displays graphs inline (e.g. as HTML)\n"
   ]
  },
  {
   "cell_type": "code",
   "execution_count": 1,
   "metadata": {
    "collapsed": false
   },
   "outputs": [
    {
     "name": "stdout",
     "output_type": "stream",
     "text": [
      "Populating the interactive namespace from numpy and matplotlib\n"
     ]
    }
   ],
   "source": [
    "%pylab inline"
   ]
  },
  {
   "cell_type": "markdown",
   "metadata": {},
   "source": [
    "### Preparation and Preprocessing\n",
    "\n",
    "We will\n",
    "\n",
    "- Load the data\n",
    "- Clean the Data\n",
    "\n",
    "#### Download and import the data"
   ]
  },
  {
   "cell_type": "code",
   "execution_count": 2,
   "metadata": {
    "collapsed": false
   },
   "outputs": [
    {
     "data": {
      "text/plain": [
       "(811, 14)"
      ]
     },
     "execution_count": 2,
     "metadata": {},
     "output_type": "execute_result"
    }
   ],
   "source": [
    "import os\n",
    "path = os.path.join(os.path.expanduser('./'),'Kddcup_data.txt')#change this location according to your directory\n",
    "#import numpy now and load the data set into a numpy array\n",
    "import numpy as np\n",
    "data = np.loadtxt(path)\n",
    "data.shape"
   ]
  },
  {
   "cell_type": "code",
   "execution_count": 3,
   "metadata": {
    "collapsed": true
   },
   "outputs": [],
   "source": [
    "feature = ['click','impressions','displayurl','adid','advertiserid','depth','position', \n",
    "           'queryid', 'keywordid', 'titleid','descriptionid','userid','gender','age']"
   ]
  },
  {
   "cell_type": "code",
   "execution_count": 4,
   "metadata": {
    "collapsed": false
   },
   "outputs": [
    {
     "data": {
      "text/plain": [
       "array([False, False, False, False, False, False, False, False, False,\n",
       "       False, False, False, False, False], dtype=bool)"
      ]
     },
     "execution_count": 4,
     "metadata": {},
     "output_type": "execute_result"
    }
   ],
   "source": [
    "#missing values are displayed as nan. lets take a look which columns there are\n",
    "np.any(np.isnan(data),axis=0)"
   ]
  },
  {
   "cell_type": "code",
   "execution_count": 5,
   "metadata": {
    "collapsed": false
   },
   "outputs": [
    {
     "data": {
      "text/plain": [
       "array([], shape=(0, 14), dtype=float64)"
      ]
     },
     "execution_count": 5,
     "metadata": {},
     "output_type": "execute_result"
    }
   ],
   "source": [
    "#lets take a look which rows are affected \n",
    "data_nan_rows = np.any(np.isnan(data),axis=1)\n",
    "data[data_nan_rows,]"
   ]
  },
  {
   "cell_type": "code",
   "execution_count": 6,
   "metadata": {
    "collapsed": false
   },
   "outputs": [
    {
     "data": {
      "text/plain": [
       "'removed 0 items'"
      ]
     },
     "execution_count": 6,
     "metadata": {},
     "output_type": "execute_result"
    }
   ],
   "source": [
    "#lets remove nans \n",
    "data_wo_nan = data[~data_nan_rows,]\n",
    "'removed %d items'%(data.shape[0]-data_wo_nan.shape[0])"
   ]
  },
  {
   "cell_type": "markdown",
   "metadata": {},
   "source": [
    "### Analysing the data set\n",
    "\n",
    "Before applying data mining methods on an unknown data set, one should try to get some statistical description of the data set. A good method therefore is the boxplot"
   ]
  },
  {
   "cell_type": "code",
   "execution_count": null,
   "metadata": {
    "collapsed": true
   },
   "outputs": [],
   "source": [
    "#Analysing the data set\n",
    "fig = figure()\n",
    "ax1 = fig.add_subplot(1,1,1)\n",
    "ax1.boxplot(data_wo_nan[:,0:2],vert=False)\n",
    "ax1.set_title(\"User Data\")\n",
    "ax1.set_yticklabels(feature[0:2])\n",
    "fig.show()"
   ]
  }
 ],
 "metadata": {
  "anaconda-cloud": {},
  "kernelspec": {
   "display_name": "Python 3",
   "language": "python",
   "name": "python3"
  },
  "language_info": {
   "codemirror_mode": {
    "name": "ipython",
    "version": 3
   },
   "file_extension": ".py",
   "mimetype": "text/x-python",
   "name": "python",
   "nbconvert_exporter": "python",
   "pygments_lexer": "ipython3",
   "version": "3.5.2"
  },
  "toc": {
   "colors": {
    "hover_highlight": "#DAA520",
    "running_highlight": "#FF0000",
    "selected_highlight": "#FFD700"
   },
   "moveMenuLeft": true,
   "nav_menu": {
    "height": "105px",
    "width": "252px"
   },
   "navigate_menu": true,
   "number_sections": true,
   "sideBar": true,
   "threshold": 4,
   "toc_cell": false,
   "toc_section_display": "block",
   "toc_window_display": false
  }
 },
 "nbformat": 4,
 "nbformat_minor": 2
}
