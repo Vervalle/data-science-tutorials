{
 "cells": [
  {
   "cell_type": "markdown",
   "metadata": {},
   "source": [
    "# 20 Newsgroups\n",
    "The 20 Newsgroups data set is a collection of approximately 20,000 newsgroup documents, partitioned (nearly) evenly across 20 different newsgroups. The data is organized into 20 different newsgroups, each corresponding to a different topic. Some of the newsgroups are very closely related to each other (e.g. comp.sys.ibm.pc.hardware / comp.sys.mac.hardware), while others are highly unrelated (e.g misc.forsale / soc.religion.christian). Here is a list of the 20 newsgroups, partitioned (more or less) according to subject matter:\n",
    "\n",
    "\n",
    "\n",
    "\n",
    "<table border=1>\n",
    "<tr>\n",
    "<td>comp.graphics<br>comp.os.ms-windows.misc<br>comp.sys.ibm.pc.hardware<br>comp.sys.mac.hardware<br>comp.windows.x</td>\n",
    "<td>rec.autos<br>rec.motorcycles<br>rec.sport.baseball<br>rec.sport.hockey</td>\n",
    "<td>sci.crypt<br>sci.electronics<br>sci.med<br>sci.space</td>\n",
    "</tr><tr>\n",
    "<td>misc.forsale</td>\n",
    "<td>talk.politics.misc<br>talk.politics.guns<br>talk.politics.mideast</td>\n",
    "<td>talk.religion.misc<br>alt.atheism<br>soc.religion.christian</td>\n",
    "</tr>\n",
    "</table>\n",
    "\n",
    "The \"bydate\"-option is sorted by date into training(60%) and test(40%) sets, does not include cross-posts (duplicates) and does not include newsgroup-identifying headers (Xref, Newsgroups, Path, Followup-To, Date). "
   ]
  },
  {
   "cell_type": "code",
   "execution_count": 5,
   "metadata": {},
   "outputs": [
    {
     "name": "stdout",
     "output_type": "stream",
     "text": [
      "  % Total    % Received % Xferd  Average Speed   Time    Time     Time  Current\n",
      "                                 Dload  Upload   Total   Spent    Left  Speed\n",
      "100 13.7M  100 13.7M    0     0   623k      0  0:00:22  0:00:22 --:--:--  643k\n"
     ]
    }
   ],
   "source": [
    "# shell scripts for downloading the data and placing it in a corresponding directory\n",
    "!mkdir newsgroups\n",
    "!curl -o newsgroups/news.tar.gz \"http://qwone.com/~jason/20Newsgroups/20news-bydate.tar.gz\"\n",
    "# extract the files\n",
    "!gzip -d < newsgroups/news.tar.gz | tar xf - --directory newsgroups"
   ]
  },
  {
   "cell_type": "code",
   "execution_count": 13,
   "metadata": {},
   "outputs": [
    {
     "name": "stdout",
     "output_type": "stream",
     "text": [
      "(11314, 130107)\n",
      "(11314,)\n"
     ]
    }
   ],
   "source": [
    "from sklearn.datasets import load_files\n",
    "from sklearn import feature_extraction\n",
    "\n",
    "\n",
    "twenty_train = load_files('./newsgroups/20news-bydate-train/', encoding='latin1')\n",
    "twenty_test = load_files('./newsgroups/20news-bydate-test/', encoding='latin1')\n",
    "\n",
    "vectorizer = feature_extraction.text.CountVectorizer()\n",
    "train_X = vectorizer.fit_transform(twenty_train.data)\n",
    "print(train_X.shape)\n",
    "print(twenty_train.target.shape)\n",
    "\n",
    "load_files?"
   ]
  }
 ],
 "metadata": {
  "kernelspec": {
   "display_name": "Python 3",
   "language": "python",
   "name": "python3"
  },
  "language_info": {
   "codemirror_mode": {
    "name": "ipython",
    "version": 3
   },
   "file_extension": ".py",
   "mimetype": "text/x-python",
   "name": "python",
   "nbconvert_exporter": "python",
   "pygments_lexer": "ipython3",
   "version": "3.6.2"
  },
  "toc": {
   "colors": {
    "hover_highlight": "#DAA520",
    "running_highlight": "#FF0000",
    "selected_highlight": "#FFD700"
   },
   "moveMenuLeft": true,
   "nav_menu": {
    "height": "48px",
    "width": "252px"
   },
   "navigate_menu": true,
   "number_sections": true,
   "sideBar": true,
   "threshold": 4,
   "toc_cell": false,
   "toc_section_display": "block",
   "toc_window_display": false,
   "widenNotebook": false
  }
 },
 "nbformat": 4,
 "nbformat_minor": 2
}
