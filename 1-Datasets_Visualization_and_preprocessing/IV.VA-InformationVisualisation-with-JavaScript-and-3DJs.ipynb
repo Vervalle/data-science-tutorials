{
 "cells": [
  {
   "cell_type": "markdown",
   "metadata": {},
   "source": [
    "# Lecture Notes on Visual Analytics\n",
    "\n",
    "## Information Visualisation with JavaScript and D3js\n",
    "\n",
    "\n",
    "\n",
    "[__Michael Granitzer__]( http://www.mendeley.com/profiles/michael-granitzer/)(michael.granitzer@uni-passau.de)\n",
    "\n",
    "\n",
    "\n",
    "__License__\n",
    "\n",
    "This work is licensed under a [Creative Commons Attribution 3.0 Unported License](http://creativecommons.org/licenses/by/3.0/)"
   ]
  },
  {
   "cell_type": "markdown",
   "metadata": {
    "slideshow": {
     "slide_type": "slide"
    }
   },
   "source": [
    "# Information Visualisation"
   ]
  },
  {
   "cell_type": "markdown",
   "metadata": {
    "slideshow": {
     "slide_type": "fragment"
    }
   },
   "source": [
    "<div class=\"alert-info\"><cite>Information visualization (InfoVis) is the communication of abstract data through the use of interactive visual interfaces. [Keim et al., 2006]</cite>\n",
    "</div>"
   ]
  },
  {
   "cell_type": "markdown",
   "metadata": {
    "slideshow": {
     "slide_type": "fragment"
    }
   },
   "source": [
    "Information Visualisation helps to\n",
    "- Bringing the human in the loop for data analysis\n",
    "- identify interesting patterns in data\n",
    "- explore data sets \n",
    "- communicate findings in data\n",
    "- ..."
   ]
  },
  {
   "cell_type": "markdown",
   "metadata": {
    "slideshow": {
     "slide_type": "subslide"
    }
   },
   "source": [
    "## An Example - Ascombe's Quartet Data Table"
   ]
  },
  {
   "cell_type": "markdown",
   "metadata": {},
   "source": [
    "<div class=\"span2 offset1\">\n",
    "    <table  class=\"table table-striped friendly-data-table\"\n",
    "                    border=\"1\">\n",
    "        <caption><em>Anscombe's Four Data Sets with equal Mean, Variance and Correlation</em></caption>\n",
    "        <tr>\n",
    "            <th style=\"text-align:center\" colspan=\"2\">Data Set A\n",
    "            <th style=\"text-align:center\" colspan=\"2\">Data Set B\n",
    "            <th style=\"text-align:center\" colspan=\"2\">Data Set C\n",
    "            <th style=\"text-align:center\" colspan=\"2\">Data Set D\n",
    "        </tr>\n",
    "        <tr>\n",
    "            <th style=\"text-align:center\">X\n",
    "            <th style=\"text-align:center\">Y\n",
    "            <th style=\"text-align:center\">X\n",
    "            <th style=\"text-align:center\">Y\n",
    "            <th style=\"text-align:center\">X\n",
    "            <th style=\"text-align:center\">Y\n",
    "            <th style=\"text-align:center\">X\n",
    "            <th style=\"text-align:center\">Y\n",
    "        </tr>\n",
    "        <tr><td>10.0<td>8.04\t<td>10.0<td>9.14\t<td>10.0<td>7.46\t<td>8.0<td>6.58\n",
    "        <tr><td>8.0<td>6.95\t        <td>8.0<td>8.14\t        <td>8.0<td>6.77\t        <td>8.0<td>5.76\n",
    "        <tr><td>13.0<td>7.58\t        <td>13.0<td>8.74\t        <td>13.0<td>12.74\t        <td>8.0<td>7.71\n",
    "        <tr><td>9.0<td>8.81\t        <td>9.0<td>8.77\t        <td>9.0<td>7.11\t        <td>8.0<td>8.84\n",
    "        <tr><td>11.0<td>8.33\t        <td>11.0<td>9.26\t        <td>11.0<td>7.81\t        <td>8.0<td>8.47\n",
    "        <tr><td>14.0<td>9.96\t        <td>14.0<td>8.10\t        <td>14.0<td>8.84\t        <td>8.0<td>7.04\n",
    "        <tr><td>6.0<td>7.24\t        <td>6.0<td>6.13\t        <td>6.0<td>6.08\t        <td>8.0<td>5.25\n",
    "        <tr><td>4.0<td>4.26\t        <td>4.0<td>3.10\t        <td>4.0<td>5.39\t        <td>19.0<td>12.50\n",
    "        <tr><td>12.0<td>10.84\t        <td>12.0<td>9.13\t        <td>12.0<td>8.15\t        <td>8.0<td>5.56\n",
    "        <tr><td>7.0<td>4.82\t        <td>7.0<td>7.26\t        <td>7.0<td>6.42\t        <td>8.0<td>7.91\n",
    "        <tr><td>5.0<td>5.68\t        <td>5.0<td>4.74\t        <td>5.0<td>5.73\t        <td>8.0<td>6.89\t\t\t\t\t\t\t\t\n",
    "    </table>\n",
    "</div>\n"
   ]
  },
  {
   "cell_type": "markdown",
   "metadata": {
    "slideshow": {
     "slide_type": "subslide"
    }
   },
   "source": [
    "<img src=\"files/images/ascomb.png\"/>"
   ]
  },
  {
   "cell_type": "markdown",
   "metadata": {
    "slideshow": {
     "slide_type": "subslide"
    }
   },
   "source": [
    "## Information Visualisation in the Web "
   ]
  },
  {
   "cell_type": "markdown",
   "metadata": {},
   "source": [
    "More and more data becomes available as Open DAta in the Web. The Web also provides a highly interactive medium where people can collaborate easily. \n",
    "\n",
    "But how to visualise data in the Web (i.e. in the Browser) and what technologies can be used?"
   ]
  },
  {
   "cell_type": "markdown",
   "metadata": {
    "slideshow": {
     "slide_type": "slide"
    }
   },
   "source": [
    "# HTML & CSS"
   ]
  },
  {
   "cell_type": "markdown",
   "metadata": {},
   "source": [
    "HTML = Hypertext Markup Langauage\n",
    "\n",
    "- Text + Markups defining the structure of the text\n",
    "- Markups are denoted by `<` and `>`\n",
    "- Markups span over text by an opening element, e.g. `<b>` and a closing element, e.g. `</b>`\n",
    "- opening elements can have attributes, e.g. `<p style='bold'>`. Core attributes are\n",
    "  - `id` as unique identifier\n",
    "  - `class` for defining the association of an element to several class. Classes might be used to select elements programmatically or to define a styling spaning several elements\n",
    "  - `title` for giving an element a title. exact use depends on the element.\n",
    "  - `style` for giving an element a particular appearance,"
   ]
  },
  {
   "cell_type": "markdown",
   "metadata": {
    "slideshow": {
     "slide_type": "subslide"
    }
   },
   "source": [
    "## DOM Tree - the Document Object Model\n",
    "\n",
    "Valid HTML does not have overlapping markups, but markups can be nested. This results in a tree structure. \n",
    "\n",
    "The Document Object Model (DOM) defines an API to programmatically access the tree structure of a web page (and modify it).\n",
    "\n",
    "You can simply try it by going to a web site, right click (with Chrome or Firefox) and inspect element. Then navigate through the tree. "
   ]
  },
  {
   "cell_type": "markdown",
   "metadata": {
    "slideshow": {
     "slide_type": "subslide"
    }
   },
   "source": [
    "## Cascading Style Sheets "
   ]
  },
  {
   "cell_type": "markdown",
   "metadata": {},
   "source": [
    "CSS is a *style sheet languag* for describing styling and formatting of a markup (e.g. HTML or XML).\n",
    "\n",
    "A CSS entry consists of a \n",
    "1. selector\n",
    "2. Style\n",
    "\n",
    "Format:\n",
    "    \n",
    "    Selector {\n",
    "      attribute1 : value\n",
    "      attribute2 : value\n",
    "      ...\n",
    "    }\n",
    "\n",
    "For example, the following block selects `body`, sets the foreground-color to purple and the background-color to `#d8da3d`\n",
    "\n",
    "    body {\n",
    "       color: purple;\n",
    "       background-color: #d8da3d \n",
    "    }\n",
    "\n"
   ]
  },
  {
   "cell_type": "markdown",
   "metadata": {
    "slideshow": {
     "slide_type": "subslide"
    }
   },
   "source": [
    "### Selectors\n",
    "\n",
    "Details on the selector syntax are provided in the [W3C Standard](http://www.w3.org/TR/css3-selectors/#selectors). \n",
    "\n",
    "Selection supports element based selection, attribute based selection, iterator/path based selection, state based selection and many more.\n",
    "\n",
    "Usually the following selectors are important:\n",
    "\n",
    "- `elementName` selects particular elements, e.g. `p` selects all paragraphs\n",
    "- `#ID` selects the element with the **unique** identified ID\n",
    "- `.classValue` selects the elements belonging to a particular class, i.e. where the class attribute contains `.classValue`\n",
    "\n",
    "We also use the selectors in JavaScript to select elements."
   ]
  },
  {
   "cell_type": "markdown",
   "metadata": {
    "slideshow": {
     "slide_type": "slide"
    }
   },
   "source": [
    "# SVG"
   ]
  },
  {
   "cell_type": "markdown",
   "metadata": {},
   "source": [
    "- [SVG - Scalable Vector Graphics](http://www.w3.org/TR/SVG/Overview.html) - is a XML-based vector graphic standard on the web.\n",
    "- Vector graphic means, that the image is created using drawing instructions.\n",
    "- SVG fully integrates in the HTML DOM Tree and can be manipulated programmatically similar to a HTML page\n",
    "- CSS can be used for styling \n",
    "\n",
    "For a detailed tutorial see the [Mozilla Developer Network Site](https://developer.mozilla.org/en-US/docs/Web/SVG/Tutorial/Introduction)."
   ]
  },
  {
   "cell_type": "markdown",
   "metadata": {
    "slideshow": {
     "slide_type": "subslide"
    }
   },
   "source": [
    "## SVG Basics"
   ]
  },
  {
   "cell_type": "markdown",
   "metadata": {},
   "source": [
    "- The [coordinate system](http://sarasoueidan.com/blog/svg-coordinate-systems/) starts in the upper left corner with (0,0)\n",
    "    - **SVG Canvas:** Infinitly large drawing area\n",
    "    - **Viewport:** Area of the SVG Canvas that is rendered (rest is clipped out). Defined by width/height attributes of SVG tag.\n",
    "    - **Viewbox:** user coordinate system the viewport is drawn to (optional)\n",
    "    - **Units** can be defined in user space (default), pixels, points, mm, cm, inch percentage (and some more)\n",
    "- Tags and attributes constitute drawing commands for\n",
    "   - **Simple Objects:** Lines, path, Berzier-curves\n",
    "   - **Complex Objects:** Rectangles, circles, ellipse, polygons\n",
    "   - **Media:** Text, links, images\n",
    "   - **Operations:** Transformation, groups, definitions, filters"
   ]
  },
  {
   "cell_type": "code",
   "execution_count": 66,
   "metadata": {
    "collapsed": false,
    "slideshow": {
     "slide_type": "subslide"
    }
   },
   "outputs": [
    {
     "data": {
      "image/svg+xml": [
       "<svg height=\"130px\" width=\"500px\" xmlns=\"http://www.w3.org/2000/svg\">\n",
       "  <text font-family=\"Verdana\" font-size=\"20\" x=\"0\" y=\"20\">\n",
       "    Coordinate system  at (0,0) top right\n",
       "  </text>\n",
       "  <rect fill=\"red\" height=\"100\" stroke-width=\"2\" width=\"100\" x=\"50\" y=\"30\"/>\n",
       "</svg>"
      ],
      "text/plain": [
       "<IPython.core.display.SVG object>"
      ]
     },
     "metadata": {},
     "output_type": "display_data"
    }
   ],
   "source": [
    "%%SVG //This tag only tells IPython Notebook to interprete the following Code as SVG\n",
    "<svg xmlns=\"http://www.w3.org/2000/svg\" width=\"500px\" height=\"130px\">\n",
    "  <text x=\"0\" y=\"20\" \n",
    "        font-family=\"Verdana\" \n",
    "        font-size=\"20\">\n",
    "    Coordinate system  at (0,0) top right\n",
    "  </text>\n",
    "  <rect x=\"50\" y=\"30\" width=\"100\" height=\"100\"\n",
    "        fill=\"red\" stroke-width=\"2\" />\n",
    "</svg>"
   ]
  },
  {
   "cell_type": "markdown",
   "metadata": {
    "slideshow": {
     "slide_type": "skip"
    }
   },
   "source": [
    "Next we add a viewport, i.e. a user coordinate system. The SVG is translated and scaled accordingly."
   ]
  },
  {
   "cell_type": "code",
   "execution_count": 67,
   "metadata": {
    "collapsed": false,
    "slideshow": {
     "slide_type": "skip"
    }
   },
   "outputs": [
    {
     "data": {
      "image/svg+xml": [
       "<svg height=\"130px\" viewbox=\"10 10 250 60\" width=\"500px\" xmlns=\"http://www.w3.org/2000/svg\">\n",
       "  <text font-family=\"Verdana\" font-size=\"20\" x=\"0\" y=\"20\">\n",
       "    Coordinate system starts at (0,0) top right\n",
       "  </text>\n",
       "  <rect fill=\"purple\" height=\"100\" stroke-width=\"2\" width=\"100\" x=\"0\" y=\"30\"/>\n",
       "</svg>"
      ],
      "text/plain": [
       "<IPython.core.display.SVG object>"
      ]
     },
     "metadata": {},
     "output_type": "display_data"
    }
   ],
   "source": [
    "%%SVG //This tag only tells IPython Notebook to interprete the following Code as SVG\n",
    "<svg xmlns=\"http://www.w3.org/2000/svg\" width=\"500px\" height=\"130px\" viewbox=\"10 10 250 60\">\n",
    "  <text x=\"0\" y=\"20\" \n",
    "        font-family=\"Verdana\" \n",
    "        font-size=\"20\">\n",
    "    Coordinate system starts at (0,0) top right\n",
    "  </text>\n",
    "  <rect x=\"0\" y=\"30\" width=\"100\" height=\"100\"\n",
    "        fill=\"purple\" stroke-width=\"2\" />\n",
    "</svg>"
   ]
  },
  {
   "cell_type": "markdown",
   "metadata": {
    "slideshow": {
     "slide_type": "slide"
    }
   },
   "source": [
    "## Basic Shapes"
   ]
  },
  {
   "cell_type": "code",
   "execution_count": 69,
   "metadata": {
    "collapsed": false
   },
   "outputs": [
    {
     "data": {
      "image/svg+xml": [
       "<svg height=\"250\" version=\"1.1\" width=\"200\" xmlns=\"http://www.w3.org/2000/svg\">\n",
       "\n",
       "  <rect fill=\"transparent\" height=\"30\" stroke=\"black\" stroke-width=\"5\" width=\"30\" x=\"10\" y=\"10\"/>\n",
       "  <rect fill=\"transparent\" height=\"30\" rx=\"10\" ry=\"10\" stroke=\"black\" stroke-width=\"5\" width=\"30\" x=\"60\" y=\"10\"/>\n",
       "\n",
       "  <circle cx=\"25\" cy=\"75\" fill=\"transparent\" r=\"20\" stroke=\"red\" stroke-width=\"5\"/>\n",
       "  <ellipse cx=\"75\" cy=\"75\" fill=\"transparent\" rx=\"20\" ry=\"5\" stroke=\"red\" stroke-width=\"5\"/>\n",
       "\n",
       "  <line fill=\"transparent\" stroke=\"orange\" stroke-width=\"5\" x1=\"10\" x2=\"50\" y1=\"110\" y2=\"150\"/>\n",
       "  <polyline fill=\"transparent\" points=\"60 110 65 120 70 115 75 130 80 125 85 140 90 135 95 150 100 145\" stroke=\"orange\" stroke-width=\"5\"/>\n",
       "\n",
       "  <polygon fill=\"transparent\" points=\"50 160 55 180 70 180 60 190 65 205 50 195 35 205 40 190 30 180 45 180\" stroke=\"green\" stroke-width=\"5\"/>\n",
       "\n",
       "  <path d=\"M20,230 Q40,205 50,230 T90,230 L120,230 L150,50\" fill=\"none\" stroke=\"blue\" stroke-width=\"5\"/>\n",
       "</svg>"
      ],
      "text/plain": [
       "<IPython.core.display.SVG object>"
      ]
     },
     "metadata": {},
     "output_type": "display_data"
    }
   ],
   "source": [
    "%%SVG\n",
    "<svg width=\"200\" height=\"250\" version=\"1.1\" xmlns=\"http://www.w3.org/2000/svg\">\n",
    "\n",
    "  <rect x=\"10\" y=\"10\" width=\"30\" height=\"30\" stroke=\"black\" \n",
    "    fill=\"transparent\" stroke-width=\"5\"/>\n",
    "  <rect x=\"60\" y=\"10\" rx=\"10\" ry=\"10\" width=\"30\" height=\"30\" stroke=\"black\" \n",
    "   fill=\"transparent\" stroke-width=\"5\"/>\n",
    "\n",
    "  <circle cx=\"25\" cy=\"75\" r=\"20\" stroke=\"red\" fill=\"transparent\" stroke-width=\"5\"/>\n",
    "  <ellipse cx=\"75\" cy=\"75\" rx=\"20\" ry=\"5\" stroke=\"red\" fill=\"transparent\" \n",
    "    stroke-width=\"5\"/>\n",
    "\n",
    "  <line x1=\"10\" x2=\"50\" y1=\"110\" y2=\"150\" stroke=\"orange\" fill=\"transparent\" \n",
    "    stroke-width=\"5\"/>\n",
    "  <polyline points=\"60 110 65 120 70 115 75 130 80 125 85 140 90 135 95 150 100 145\"\n",
    "      stroke=\"orange\" fill=\"transparent\" stroke-width=\"5\"/>\n",
    "\n",
    "  <polygon points=\"50 160 55 180 70 180 60 190 65 205 50 195 35 205 40 190 30 180 45 180\"\n",
    "      stroke=\"green\" fill=\"transparent\" stroke-width=\"5\"/>\n",
    "\n",
    "  <path d=\"M20,230 Q40,205 50,230 T90,230 L120,230 L150,50\" fill=\"none\" stroke=\"blue\" stroke-width=\"5\"/>\n",
    "</svg>"
   ]
  },
  {
   "cell_type": "markdown",
   "metadata": {
    "slideshow": {
     "slide_type": "subslide"
    }
   },
   "source": [
    "Path commands:\n",
    "    \n",
    "- M = moveto\n",
    "- L = lineto\n",
    "- H = horizontal lineto\n",
    "- V = vertical lineto\n",
    "- C = curveto\n",
    "- S = smooth curveto\n",
    "- Q = quadratic Bezier curve\n",
    "- T = smooth quadratic Bezier curveto\n",
    "- A = elliptical Arc\n",
    "- Z = closepath\n",
    "\n",
    "https://developer.mozilla.org/en-US/docs/Web/SVG/Tutorial/Paths"
   ]
  },
  {
   "cell_type": "markdown",
   "metadata": {
    "slideshow": {
     "slide_type": "subslide"
    }
   },
   "source": [
    "## Text"
   ]
  },
  {
   "cell_type": "code",
   "execution_count": 72,
   "metadata": {
    "collapsed": false
   },
   "outputs": [
    {
     "data": {
      "image/svg+xml": [
       "<svg height=\"200\" version=\"1.1\" width=\"500\" xmlns=\"http://www.w3.org/2000/svg\" xmlns:xlink=\"http://www.w3.org/1999/xlink\">\n",
       " \n",
       "    \n",
       "  <rect fill=\"red\" height=\"100%\" width=\"50%\"/>\n",
       "\n",
       "  <circle cx=\"150\" cy=\"100\" fill=\"green\" r=\"80\"/>\n",
       "\n",
       "  <text fill=\"white\" font-size=\"60\" text-anchor=\"middle\" x=\"150\" y=\"125\">SVG</text>\n",
       "  <path d=\"M 300,20 C 340,40 380,40 500,20\" fill=\"none\" id=\"my_path\"/>\n",
       "  <text>\n",
       "  <textPath xlink:href=\"#my_path\">This text follows a curve.</textPath>\n",
       "  </text>\n",
       "</svg>"
      ],
      "text/plain": [
       "<IPython.core.display.SVG object>"
      ]
     },
     "metadata": {},
     "output_type": "display_data"
    }
   ],
   "source": [
    "%%SVG\n",
    "<svg version=\"1.1\"  width=\"500\" height=\"200\"\n",
    "     xmlns=\"http://www.w3.org/2000/svg\"\n",
    "    xmlns:xlink=\"http://www.w3.org/1999/xlink\">\n",
    " \n",
    "    \n",
    "  <rect width=\"50%\" height=\"100%\" fill=\"red\" />\n",
    "\n",
    "  <circle cx=\"150\" cy=\"100\" r=\"80\" fill=\"green\" />\n",
    "\n",
    "  <text x=\"150\" y=\"125\" font-size=\"60\" text-anchor=\"middle\" fill=\"white\">SVG</text>\n",
    "  <path id=\"my_path\" d=\"M 300,20 C 340,40 380,40 500,20\" fill=\"none\" />\n",
    "  <text>\n",
    "  <textPath xlink:href=\"#my_path\">This text follows a curve.</textPath>\n",
    "  </text>\n",
    "</svg>"
   ]
  },
  {
   "cell_type": "markdown",
   "metadata": {
    "slideshow": {
     "slide_type": "slide"
    }
   },
   "source": [
    "# JavaScript (ECMA Script)"
   ]
  },
  {
   "cell_type": "markdown",
   "metadata": {},
   "source": [
    "- The programming language for the Browser (but extends beyond it)\n",
    "- Developed by Netscape, standardised by ECMA. Hence ECMA Script. \n",
    "- JavaScript has no concept of input or ouptut, but runs in a host environment (like the Browser).\n",
    "- JavaScript is a fully-fledged, object oriented, dynamic language (e.g. dynamic typing, modifying code at runtime, functions as first class citizens)\n",
    "- JavaScript does not have classes, but other means for ensuring re-use and aggregation.\n",
    "- Java/C like Syntax (but it is **NOT JAVA**)\n",
    "- JavaScript is inserted into HTML using the `<script>` tag. You can load JavaScript libraries similar to an image by specifying the `src` attribute in the script tag.\n",
    "\n",
    "We will present an overview now, details on syntax and some explanations can be found at [Mozilla Developer Network](https://developer.mozilla.org/en-US/docs/Web/JavaScript/A_re-introduction_to_JavaScript)."
   ]
  },
  {
   "cell_type": "markdown",
   "metadata": {
    "slideshow": {
     "slide_type": "subslide"
    }
   },
   "source": [
    "## Data Types"
   ]
  },
  {
   "cell_type": "markdown",
   "metadata": {},
   "source": [
    "- Number (64-bit, double-precision floating-point)\n",
    "- String\n",
    "- Boolean\n",
    "- Object\n",
    "    - Function\n",
    "    - Array\n",
    "    - Date\n",
    "    - RegExp\n",
    "    - Custom \n",
    "- null\n",
    "- undefined"
   ]
  },
  {
   "cell_type": "markdown",
   "metadata": {
    "slideshow": {
     "slide_type": "subslide"
    }
   },
   "source": [
    "## Control Structures  and expression"
   ]
  },
  {
   "cell_type": "markdown",
   "metadata": {},
   "source": [
    "JavaScript uses Java style syntax. If you do not know the syntax, simply look it up at the  [Mozilla Developer Network](https://developer.mozilla.org/en-US/docs/Web/JavaScript/A_re-introduction_to_JavaScript)."
   ]
  },
  {
   "cell_type": "code",
   "execution_count": 4,
   "metadata": {
    "collapsed": false
   },
   "outputs": [
    {
     "data": {
      "application/javascript": [
       "var name = \"kittens\";\n",
       "if (name == \"puppies\") {\n",
       "  name += \"!\";\n",
       "} else if (name == \"kittens\") {\n",
       "  name += \"!!\";\n",
       "} else {\n",
       "  name = \"!\" + name;\n",
       "}\n",
       "name == \"kittens!!\"\n",
       "\n",
       "switch(action) {\n",
       "  case 'draw':\n",
       "    drawIt();\n",
       "    break;\n",
       "  case 'eat':\n",
       "    eatIt();\n",
       "    break;\n",
       "  default:\n",
       "    doNothing();\n",
       "}\n",
       "\n",
       "\n",
       "for (var i = 0; i < 5; i++) {\n",
       "  // Will execute 5 times\n",
       "}\n",
       "while (true) {\n",
       "  // an infinite loop!\n",
       "}\n",
       "\n",
       "var input;\n",
       "do {\n",
       "  input = get_input();\n",
       "} while (inputIsNotValid(input))\n"
      ],
      "text/plain": [
       "<IPython.core.display.Javascript object>"
      ]
     },
     "metadata": {},
     "output_type": "display_data"
    }
   ],
   "source": [
    "%%javascript\n",
    "var name = \"kittens\";\n",
    "if (name == \"puppies\") {\n",
    "  name += \"!\";\n",
    "} else if (name == \"kittens\") {\n",
    "  name += \"!!\";\n",
    "} else {\n",
    "  name = \"!\" + name;\n",
    "}\n",
    "name == \"kittens!!\"\n",
    "\n",
    "switch(action) {\n",
    "  case 'draw':\n",
    "    drawIt();\n",
    "    break;\n",
    "  case 'eat':\n",
    "    eatIt();\n",
    "    break;\n",
    "  default:\n",
    "    doNothing();\n",
    "}\n",
    "\n",
    "\n",
    "for (var i = 0; i < 5; i++) {\n",
    "  // Will execute 5 times\n",
    "}\n",
    "while (true) {\n",
    "  // an infinite loop!\n",
    "}\n",
    "\n",
    "var input;\n",
    "do {\n",
    "  input = get_input();\n",
    "} while (inputIsNotValid(input))"
   ]
  },
  {
   "cell_type": "markdown",
   "metadata": {
    "slideshow": {
     "slide_type": "subslide"
    }
   },
   "source": [
    "## Objects"
   ]
  },
  {
   "cell_type": "markdown",
   "metadata": {},
   "source": [
    "In principal everything in JavaScript is an object. Objects are referred to by a name.\n",
    "\n",
    "Three ways to create a object:"
   ]
  },
  {
   "cell_type": "code",
   "execution_count": 69,
   "metadata": {
    "collapsed": false
   },
   "outputs": [
    {
     "data": {
      "application/javascript": [
       "//way 1: Instantiate objects and then define members of the object dynamically\n",
       "var obj = new Object();\n",
       "obj.name = 'Michael';\n",
       "console.log(obj.name);\n",
       "//way 2: object literal syntax in JSON format (JavaScript Object Notation)\n",
       "var obj = {\n",
       "    name: \"Michael\",\n",
       "    \"age\": 24,\n",
       "    details : {\n",
       "        haircolor: \"blond\",\n",
       "        size: 12\n",
       "    },\n",
       "    languages : [\"en\", \"de\", \"fr\"]\n",
       "};\n",
       "//way 3: using functions and closure\n",
       "function Person(name, age) {\n",
       "  this.name = name;\n",
       "  this.age = age;\n",
       "}\n",
       "var You = new Person(\"You\", 24); \n",
       "//accessing objects can be done in two ways\n",
       "//dot syntax\n",
       "obj.details.color; // orange\n",
       "//array syntax, which is more dynamic\n",
       "obj[\"details\"][\"size\"]; // 12"
      ],
      "text/plain": [
       "<IPython.core.display.Javascript object>"
      ]
     },
     "metadata": {},
     "output_type": "display_data"
    }
   ],
   "source": [
    "%%javascript\n",
    "//way 1: Instantiate objects and then define members of the object dynamically\n",
    "var obj = new Object();\n",
    "obj.name = 'Michael';\n",
    "console.log(obj.name);\n",
    "//way 2: object literal syntax in JSON format (JavaScript Object Notation)\n",
    "var obj = {\n",
    "    name: \"Michael\",\n",
    "    \"age\": 24,\n",
    "    details : {\n",
    "        haircolor: \"blond\",\n",
    "        size: 12\n",
    "    },\n",
    "    languages : [\"en\", \"de\", \"fr\"]\n",
    "};\n",
    "//way 3: using functions and closure\n",
    "function Person(name, age) {\n",
    "  this.name = name;\n",
    "  this.age = age;\n",
    "}\n",
    "var You = new Person(\"You\", 24); \n",
    "//accessing objects can be done in two ways\n",
    "//dot syntax\n",
    "obj.details.color; // orange\n",
    "//array syntax, which is more dynamic\n",
    "obj[\"details\"][\"size\"]; // 12"
   ]
  },
  {
   "cell_type": "markdown",
   "metadata": {
    "slideshow": {
     "slide_type": "subslide"
    }
   },
   "source": [
    "## Functions "
   ]
  },
  {
   "cell_type": "markdown",
   "metadata": {},
   "source": [
    "As objects and data types, functions are central to JavaScript."
   ]
  },
  {
   "cell_type": "code",
   "execution_count": null,
   "metadata": {
    "collapsed": true
   },
   "outputs": [],
   "source": [
    "%%javascript\n",
    "function add(x, y) {\n",
    "  var total = x + y;\n",
    "  return total;\n",
    "}\n",
    "//but parameters are more a guildline, then fixed.\n",
    "add(1,2); // 3\n",
    "add(); // NaN \n",
    "add(2, 3, 4); // 5 . the last parameter is ignored\n",
    "//function taking variable parameter length into account:\n",
    "function add() {\n",
    "  var sum = 0;\n",
    "  for (var i = 0, j = arguments.length; i < j; i++) {\n",
    "    sum += arguments[i];\n",
    "  }\n",
    "  return sum;\n",
    "}\n",
    "add(2, 3, 4, 5); // 14"
   ]
  },
  {
   "cell_type": "markdown",
   "metadata": {
    "slideshow": {
     "slide_type": "subslide"
    }
   },
   "source": [
    "### Anonymous Functions"
   ]
  },
  {
   "cell_type": "markdown",
   "metadata": {
    "slideshow": {
     "slide_type": "-"
    }
   },
   "source": [
    "JavaScript allows you to create anonymous functions, that can be used as variable. This allows to create powerful concepts like using functions as parameters of other functions, a prerequisit for functional programming."
   ]
  },
  {
   "cell_type": "code",
   "execution_count": null,
   "metadata": {
    "collapsed": true
   },
   "outputs": [],
   "source": [
    "%%javascript\n",
    "var add = function() {\n",
    "  var sum = 0;\n",
    "  for (var i = 0, j = arguments.length; i < j; i++) {\n",
    "    sum += arguments[i];\n",
    "  }\n",
    "  return sum;\n",
    "};\n",
    "\n",
    "add(2, 3, 4, 5); // 14"
   ]
  },
  {
   "cell_type": "markdown",
   "metadata": {
    "slideshow": {
     "slide_type": "subslide"
    }
   },
   "source": [
    "## Custom Objects"
   ]
  },
  {
   "cell_type": "markdown",
   "metadata": {},
   "source": [
    "JavaScript has no classes, but uses functions and prototypes. Prototype based inheritance is based on the cloning mechanism, i.e. an object is created by cloning another object and extended with new properties during runtime.\n",
    "\n",
    "This makes JavaScript often hard to read/understand and so we will go through a few patterns here."
   ]
  },
  {
   "cell_type": "code",
   "execution_count": null,
   "metadata": {
    "collapsed": true
   },
   "outputs": [],
   "source": [
    "%%javascript\n",
    "//the concstructor\n",
    "function makePerson(first, last) {\n",
    "  return {\n",
    "    first: first,\n",
    "    last: last,\n",
    "    fullName: function() {\n",
    "      return this.first + ' ' + this.last;\n",
    "    },\n",
    "    fullNameReversed: function() {\n",
    "      return this.last + ', ' + this.first;\n",
    "    }\n",
    "  };\n",
    "}\n",
    "//createing a \"person\" object\n",
    "s = makePerson(\"Simon\", \"Willison\")\n",
    "s.fullName(); // \"Simon Willison\"\n",
    "s.fullNameReversed(); // \"Willison, Simon\""
   ]
  },
  {
   "cell_type": "markdown",
   "metadata": {
    "slideshow": {
     "slide_type": "subslide"
    }
   },
   "source": [
    "### THIS"
   ]
  },
  {
   "cell_type": "markdown",
   "metadata": {},
   "source": [
    "the `this` keyword refers to the current object. The current object is the object that preceeds the `.` or bracket notation in a function call. Withouth the dot notation, `this` refers to the global object. "
   ]
  },
  {
   "cell_type": "code",
   "execution_count": null,
   "metadata": {
    "collapsed": true
   },
   "outputs": [],
   "source": [
    "%%javascript\n",
    "s = makePerson(\"Simon\", \"Willison\");\n",
    "var fullName = s.fullName;\n",
    "fullName(); // undefined undefined"
   ]
  },
  {
   "cell_type": "markdown",
   "metadata": {
    "slideshow": {
     "slide_type": "subslide"
    }
   },
   "source": [
    "### NEW "
   ]
  },
  {
   "cell_type": "markdown",
   "metadata": {},
   "source": [
    "We can use this to create objects in antoher way"
   ]
  },
  {
   "cell_type": "code",
   "execution_count": null,
   "metadata": {
    "collapsed": true
   },
   "outputs": [],
   "source": [
    "%%javascript\n",
    "function Person(first, last) {\n",
    "  this.first = first;\n",
    "  this.last = last;\n",
    "  this.fullName = function() {\n",
    "    return this.first + ' ' + this.last;\n",
    "  };\n",
    "  this.fullNameReversed = function() {\n",
    "    return this.last + ', ' + this.first;\n",
    "  };\n",
    "}\n",
    "var s = new Person(\"Simon\", \"Willison\");"
   ]
  },
  {
   "cell_type": "markdown",
   "metadata": {},
   "source": [
    "`new` first creates a new object and then applies the function setting `this` to the newly created object."
   ]
  },
  {
   "cell_type": "markdown",
   "metadata": {
    "slideshow": {
     "slide_type": "subslide"
    }
   },
   "source": [
    "### Open Routes "
   ]
  },
  {
   "cell_type": "markdown",
   "metadata": {},
   "source": [
    "We did not cover prototypes, inner functions and closures, but those are subjects for a more detailed introduction."
   ]
  },
  {
   "cell_type": "markdown",
   "metadata": {},
   "source": [
    "###  Online Tools"
   ]
  },
  {
   "cell_type": "markdown",
   "metadata": {},
   "source": [
    "Usually JavaScript is integrated in HTML and developed locally in the browser (or with a client server system of course). However, you can use online tools like [JSBin](http://jsbin.com) or [JSFIDDLE](https://jsfiddle.net/) for playing around with HTML, CSS or JavaScript Code."
   ]
  },
  {
   "cell_type": "markdown",
   "metadata": {
    "slideshow": {
     "slide_type": "slide"
    }
   },
   "source": [
    "# D3js"
   ]
  },
  {
   "cell_type": "markdown",
   "metadata": {},
   "source": [
    ">D3.js is a JavaScript library for manipulating documents based on data. D3 helps you bring data to life using HTML, SVG, and CSS. D3’s emphasis on web standards gives you the full capabilities of modern browsers without tying yourself to a proprietary framework, combining powerful visualization components and a data-driven approach to DOM manipulation. [D3JS Website](http://d3js.org/)\n",
    "\n",
    "Some features:\n",
    "- selections with operator chaining (like JQuery)\n",
    "- dynamic properties (based on data)\n",
    "- data joins\n",
    "- transitions and transformations\n"
   ]
  },
  {
   "cell_type": "markdown",
   "metadata": {
    "slideshow": {
     "slide_type": "subslide"
    }
   },
   "source": [
    "## First Steps "
   ]
  },
  {
   "cell_type": "markdown",
   "metadata": {
    "slideshow": {
     "slide_type": "fragment"
    }
   },
   "source": [
    "First we need to load the JavaScript Libray"
   ]
  },
  {
   "cell_type": "code",
   "execution_count": 73,
   "metadata": {
    "collapsed": false
   },
   "outputs": [
    {
     "data": {
      "text/html": [
       "<script type=\"text/javascript\" src=\"https://cdnjs.cloudflare.com/ajax/libs/d3/3.5.5/d3.min.js\"></script>"
      ],
      "text/plain": [
       "<IPython.core.display.HTML object>"
      ]
     },
     "metadata": {},
     "output_type": "display_data"
    }
   ],
   "source": [
    "%%HTML\n",
    "<script type=\"text/javascript\" src=\"https://cdnjs.cloudflare.com/ajax/libs/d3/3.5.5/d3.min.js\"></script>"
   ]
  },
  {
   "cell_type": "markdown",
   "metadata": {
    "slideshow": {
     "slide_type": "fragment"
    }
   },
   "source": [
    "Lets create the following SVG dynamically via D3.js"
   ]
  },
  {
   "cell_type": "code",
   "execution_count": 71,
   "metadata": {
    "collapsed": false,
    "format": "tab"
   },
   "outputs": [
    {
     "data": {
      "image/svg+xml": [
       "<svg height=\"50\" width=\"50\">\n",
       "  <circle cx=\"25\" cy=\"25\" fill=\"purple\" r=\"25\"/>\n",
       "</svg>"
      ],
      "text/plain": [
       "<IPython.core.display.SVG object>"
      ]
     },
     "metadata": {},
     "output_type": "display_data"
    }
   ],
   "source": [
    "%%SVG\n",
    "<svg width=\"50\" height=\"50\" >\n",
    "  <circle cx=\"25\" cy=\"25\" r=\"25\" fill=\"purple\" /> \n",
    "</svg> "
   ]
  },
  {
   "cell_type": "markdown",
   "metadata": {
    "slideshow": {
     "slide_type": "fragment"
    }
   },
   "source": [
    "To do this, we first we need a container to add the SVG to"
   ]
  },
  {
   "cell_type": "code",
   "execution_count": 74,
   "metadata": {
    "collapsed": false
   },
   "outputs": [
    {
     "data": {
      "text/html": [
       "<div id=\"my_svg\"> \n",
       "</div>"
      ],
      "text/plain": [
       "<IPython.core.display.HTML object>"
      ]
     },
     "metadata": {},
     "output_type": "display_data"
    }
   ],
   "source": [
    "%%HTML\n",
    "<div id=\"my_svg\"> \n",
    "</div>"
   ]
  },
  {
   "cell_type": "markdown",
   "metadata": {
    "slideshow": {
     "slide_type": "fragment"
    }
   },
   "source": [
    "and then we invoke the following JavaScript:"
   ]
  },
  {
   "cell_type": "code",
   "execution_count": 75,
   "metadata": {
    "collapsed": false
   },
   "outputs": [
    {
     "data": {
      "application/javascript": [
       "d3.select(\"#my_svg\")\n",
       "  .append(\"svg\").attr(\"width\", 100).attr(\"height\", 50)\n",
       "  .append(\"circle\").attr(\"cx\", 25).attr(\"cy\", 25).attr(\"r\", 25).style(\"fill\", \"purple\");"
      ],
      "text/plain": [
       "<IPython.core.display.Javascript object>"
      ]
     },
     "metadata": {},
     "output_type": "display_data"
    }
   ],
   "source": [
    "%%javascript \n",
    "d3.select(\"#my_svg\")\n",
    "  .append(\"svg\").attr(\"width\", 100).attr(\"height\", 50)\n",
    "  .append(\"circle\").attr(\"cx\", 25).attr(\"cy\", 25).attr(\"r\", 25).style(\"fill\", \"purple\");"
   ]
  },
  {
   "cell_type": "markdown",
   "metadata": {
    "slideshow": {
     "slide_type": "fragment"
    }
   },
   "source": [
    "So the full HTML file looks like "
   ]
  },
  {
   "cell_type": "raw",
   "metadata": {},
   "source": [
    "<HTML>\n",
    "    <HEAD></HEAD>\n",
    "        <script type=\"text/javascript\" src=\"https://cdnjs.cloudflare.com/ajax/libs/d3/3.5.5/d3.min.js\"></script>\n",
    "    <BODY>\n",
    "        <DIV id=\"my_svg\"></DIV>\n",
    "        <script type=\"text/javascript\">\n",
    "            d3.select(\"#my_svg\")\n",
    "               .append(\"svg\").attr(\"width\", 100).attr(\"height\", 50)\n",
    "               .append(\"circle\").attr(\"cx\", 25).attr(\"cy\", 25).attr(\"r\", 25).style(\"fill\", \"purple\");\n",
    "        </script>\n",
    "    </BODY>\n",
    "</HTML>"
   ]
  },
  {
   "cell_type": "markdown",
   "metadata": {
    "slideshow": {
     "slide_type": "subslide"
    }
   },
   "source": [
    "## Joining Data with DOM Elements"
   ]
  },
  {
   "cell_type": "markdown",
   "metadata": {},
   "source": [
    "The core element of D3 is the so called join, which is based on the following observation:\n",
    "\n",
    ">Every visualisation requires to ingredients: the data to be visualised and the graphical item that displays the data, i.e. the DOM Element in HTML/SVG\n",
    "\n",
    "D3JS offers the capability to intersect a selection of GUI elements with a data set (list of objects) using `data` on a function.\n",
    "\n",
    "This is visualised below."
   ]
  },
  {
   "cell_type": "code",
   "execution_count": 74,
   "metadata": {
    "collapsed": false,
    "format": "tab",
    "slideshow": {
     "slide_type": "subslide"
    }
   },
   "outputs": [
    {
     "data": {
      "image/svg+xml": [
       "<svg height=\"240\" width=\"720\">\n",
       "   <g transform=\"translate(0,128)\">\n",
       "      <g transform=\"translate(300)\">\n",
       "         <circle r=\"110\" style=\"fill: rgb(49, 130, 189);opacity:0.2\"/>\n",
       "         <text dy=\".35em\" style=\"font-weight: bold;\" text-anchor=\"middle\" y=\"-120\">Data</text>\n",
       "         <text dy=\".35em\" text-anchor=\"middle\" x=\"-50\">Enter</text>\n",
       "      </g>\n",
       "    <text dy=\".35em\" text-anchor=\"middle\" x=\"360\">Update</text>\n",
       "    <g transform=\"translate(420)\">\n",
       "      <circle r=\"110\" style=\"fill: rgb(230, 85, 13);opacity:0.2\"/>\n",
       "      <text dy=\".35em\" style=\"font-weight: bold;\" text-anchor=\"middle\" y=\"-120\">Elements</text>\n",
       "      <text dy=\".35em\" text-anchor=\"middle\" x=\"50\">Exit</text>\n",
       "    </g>\n",
       "   </g>\n",
       "</svg>"
      ],
      "text/plain": [
       "<IPython.core.display.SVG object>"
      ]
     },
     "metadata": {},
     "output_type": "display_data"
    }
   ],
   "source": [
    "%%SVG\n",
    "<svg height=\"240\" width=\"720\">\n",
    "   <g transform=\"translate(0,128)\">\n",
    "      <g transform=\"translate(300)\">\n",
    "         <circle r=\"110\" style=\"fill: rgb(49, 130, 189);opacity:0.2\"></circle>\n",
    "         <text text-anchor=\"middle\" dy=\".35em\" style=\"font-weight: bold;\" y=\"-120\">Data</text>\n",
    "         <text text-anchor=\"middle\" dy=\".35em\" x=\"-50\">Enter</text>\n",
    "      </g>\n",
    "    <text text-anchor=\"middle\" dy=\".35em\" x=\"360\">Update</text>\n",
    "    <g transform=\"translate(420)\">\n",
    "      <circle r=\"110\" style=\"fill: rgb(230, 85, 13);opacity:0.2\"></circle>\n",
    "      <text text-anchor=\"middle\" dy=\".35em\" style=\"font-weight: bold;\" y=\"-120\">Elements</text>\n",
    "      <text text-anchor=\"middle\" dy=\".35em\" x=\"50\">Exit</text>\n",
    "    </g>\n",
    "   </g>\n",
    "</svg>"
   ]
  },
  {
   "cell_type": "markdown",
   "metadata": {
    "slideshow": {
     "slide_type": "subslide"
    }
   },
   "source": [
    "### An Example"
   ]
  },
  {
   "cell_type": "code",
   "execution_count": 80,
   "metadata": {
    "collapsed": false
   },
   "outputs": [
    {
     "data": {
      "text/html": [
       "<div id=\"first_join\">\n",
       "</div>"
      ],
      "text/plain": [
       "<IPython.core.display.HTML object>"
      ]
     },
     "metadata": {},
     "output_type": "display_data"
    }
   ],
   "source": [
    "%%HTML\n",
    "<div id=\"first_join\">\n",
    "</div>"
   ]
  },
  {
   "cell_type": "code",
   "execution_count": 85,
   "metadata": {
    "collapsed": false
   },
   "outputs": [
    {
     "data": {
      "application/javascript": [
       "var data = [1,2,3,5,6];\n",
       "var p = d3.select(\"#first_join\")\n",
       "  .selectAll(\"p\")\n",
       "  .data(data)\n",
       "  .enter()\n",
       "  .append(\"p\")\n",
       "  .text(function(d){return d;});\n",
       "console.log(p);"
      ],
      "text/plain": [
       "<IPython.core.display.Javascript object>"
      ]
     },
     "metadata": {},
     "output_type": "display_data"
    }
   ],
   "source": [
    "%%javascript\n",
    "var data = [1,2,3,5,6];\n",
    "var p = d3.select(\"#first_join\")\n",
    "  .selectAll(\"p\")\n",
    "  .data(data)\n",
    "  .enter()\n",
    "  .append(\"p\")\n",
    "  .text(function(d){return d;});\n",
    "console.log(p);"
   ]
  },
  {
   "cell_type": "markdown",
   "metadata": {
    "slideshow": {
     "slide_type": "subslide"
    }
   },
   "source": [
    "## D3JS API Overview"
   ]
  },
  {
   "cell_type": "markdown",
   "metadata": {},
   "source": [
    "The [API is huge](https://github.com/mbostock/d3/wiki/API-Reference), so we don't go into every detail. \n",
    "\n",
    "Core functions include:\n",
    "\n",
    "- Selection and Events (e.g. mouse)\n",
    "- Transitions\n",
    "- Data Structures and Arrays\n",
    "- Math\n",
    "- Loading External Resources\n",
    "- Colors, String Formatting, Namespaces\n",
    "- Scaling, SVG Elements, time\n",
    "- Layout Algorithm\n",
    "- Geographie\n",
    "- Geometrie\n",
    "- Beahviour"
   ]
  },
  {
   "cell_type": "markdown",
   "metadata": {
    "slideshow": {
     "slide_type": "subslide"
    }
   },
   "source": [
    "# Example: Bar Charts with D3js "
   ]
  },
  {
   "cell_type": "markdown",
   "metadata": {
    "slideshow": {
     "slide_type": "subslide"
    }
   },
   "source": [
    "Lets make a bar chart with 'div's first (taken from [mbostocks introduction](http://bost.ocks.org/mike/bar/). see [git gist](http://bl.ocks.org/mbostock/7322386))"
   ]
  },
  {
   "cell_type": "code",
   "execution_count": 88,
   "metadata": {
    "collapsed": false,
    "slideshow": {
     "slide_type": "subslide"
    }
   },
   "outputs": [
    {
     "data": {
      "text/html": [
       "<style>\n",
       ".chart div {\n",
       "  font: 10px sans-serif;\n",
       "  background-color: steelblue;\n",
       "  text-align: right;\n",
       "  padding: 3px;\n",
       "  margin: 1px;\n",
       "  color: white;\n",
       "}\n",
       "</style>\n",
       "<div id=\"my_barchart\" class=\"chart\">\n",
       "</div> "
      ],
      "text/plain": [
       "<IPython.core.display.HTML object>"
      ]
     },
     "metadata": {},
     "output_type": "display_data"
    }
   ],
   "source": [
    "%%HTML # Make the HTML node which will contain the line chart here and define a style\n",
    "<style>\n",
    ".chart div {\n",
    "  font: 10px sans-serif;\n",
    "  background-color: steelblue;\n",
    "  text-align: right;\n",
    "  padding: 3px;\n",
    "  margin: 1px;\n",
    "  color: white;\n",
    "}\n",
    "</style>\n",
    "<div id=\"my_barchart\" class=\"chart\">\n",
    "</div> "
   ]
  },
  {
   "cell_type": "code",
   "execution_count": 5,
   "metadata": {
    "collapsed": false,
    "slideshow": {
     "slide_type": "fragment"
    }
   },
   "outputs": [
    {
     "data": {
      "application/javascript": [
       "var data = [8, 10, 15, 18, 23, 42,500,600];\n",
       "var scale = d3.scale.linear()\n",
       "    .domain([0, d3.max(data)])\n",
       "    .range([0, 420]);\n",
       "    \n",
       "d3.select(\"#my_barchart\")\n",
       "  .selectAll(\"div\")\n",
       "  .data(data)\n",
       "  .enter().append(\"div\")\n",
       "  .style(\"width\", function(d) { return scale(d) + \"px\"; })\n",
       "  .text(function(d) { return d; });"
      ],
      "text/plain": [
       "<IPython.core.display.Javascript object>"
      ]
     },
     "metadata": {},
     "output_type": "display_data"
    }
   ],
   "source": [
    "%%javascript\n",
    "var data = [8, 10, 15, 18, 23, 42,500,600];\n",
    "var scale = d3.scale.linear()\n",
    "    .domain([0, d3.max(data)])\n",
    "    .range([0, 420]);\n",
    "    \n",
    "d3.select(\"#my_barchart\")\n",
    "  .selectAll(\"div\")\n",
    "  .data(data)\n",
    "  .enter().append(\"div\")\n",
    "  .style(\"width\", function(d) { return scale(d) + \"px\"; })\n",
    "  .text(function(d) { return d; });"
   ]
  },
  {
   "cell_type": "markdown",
   "metadata": {
    "slideshow": {
     "slide_type": "slide"
    }
   },
   "source": [
    "# Exercise: Visualise Ascomb's Data Set"
   ]
  },
  {
   "cell_type": "markdown",
   "metadata": {
    "collapsed": true
   },
   "source": [
    "Your task is now to visualise Ascombs' Data Set. Below you find a skeleton HTML Page, where you have to extend the `create_scatter` function in order to display a scatter plot. The function should take the data and draw the `x` data items on the x-axis and the `y` data item on the y-axis. Data from the same series should have the same color, while data from different series should have different color. There should be a color legend on the top right \n",
    "\n",
    "The visualisation must be a SVG. Optionally you can add interactions such as clicking on a series in the legend tohide the data points/make them visible.\n",
    "\n",
    "Depending on your approach, you might need to consider the following D3JS functions:\n",
    "- [d3.scale.linear](https://github.com/mbostock/d3/wiki/Quantitative-Scales#_linear) for scaling x and y axis\n",
    "- [SVG Axes for drawing the x and y axis easily](https://github.com/mbostock/d3/wiki/SVG-Axes)\n",
    "- [d3.scale.category10](https://github.com/mbostock/d3/wiki/Ordinal-Scales#category10) for obtaining colors\n",
    "\n"
   ]
  },
  {
   "cell_type": "markdown",
   "metadata": {},
   "source": [
    "<img src=\"files/images/ascomb-scatter.svg\"/>"
   ]
  },
  {
   "cell_type": "code",
   "execution_count": null,
   "metadata": {
    "collapsed": true
   },
   "outputs": [],
   "source": [
    "%%HTML\n",
    "    <!DOCTYPE html>\n",
    "    <html>\n",
    "    <style>\n",
    "        body {\n",
    "          font: 11px sans-serif;\n",
    "        }\n",
    "\n",
    "        .axis path,\n",
    "        .axis line {\n",
    "          fill: none;\n",
    "          stroke: #000;\n",
    "          shape-rendering: crispEdges;\n",
    "        }\n",
    "\n",
    "        .dot {\n",
    "          stroke: #000;\n",
    "        }\n",
    "\n",
    "        .tooltip {\n",
    "          position: absolute;\n",
    "          width: 200px;\n",
    "          height: 28px;\n",
    "          pointer-events: none;\n",
    "        }\n",
    "    </style>\n",
    "    <body>\n",
    "    <script src=\"http://d3js.org/d3.v3.min.js\"></script>\n",
    "\n",
    "    <script>\n",
    "\n",
    "    var data = [{\"Series\": 1, \"x\": 10,\"y\": 8.04},\n",
    "\t\t\t    {\"Series\": 1,\"x\": 8,\"y\": 6.95},\n",
    "\t\t\t    {\"Series\": 1,\"x\": 13,\"y\": 7.58},\n",
    "\t\t\t    {\"Series\": 1,\"x\": 9,\"y\": 8.81},\n",
    "\t\t\t    {\"Series\": 1,\"x\": 11,\"y\": 8.33},\n",
    "\t\t\t    {\"Series\": 1,\"x\": 14,\"y\": 9.96},\n",
    "\t\t\t    {\"Series\": 1,\"x\": 6,\"y\": 7.24},\n",
    "\t\t\t    {\"Series\": 1,\"x\": 4,\"y\": 4.26},\n",
    "\t\t\t    {\"Series\": 1,\"x\": 12,\"y\": 10.84},\n",
    "\t\t\t    {\"Series\": 1,\"x\": 7,\"y\": 4.82},\n",
    "\t\t\t    {\"Series\": 1,\"x\": 5,\"y\": 5.68},\n",
    "\t\t\t    {\"Series\": 2,\"x\": 10,\"y\": 9.14},\n",
    "\t\t\t    {\"Series\": 2,\"x\": 8,\"y\": 8.14},\n",
    "\t\t\t    {\"Series\": 2,\"x\": 13,\"y\": 8.74},\n",
    "\t\t\t    {\"Series\": 2,\"x\": 9,\"y\": 8.77},\n",
    "\t\t\t    {\"Series\": 2,\"x\": 11,\"y\": 9.26},\n",
    "\t\t\t    {\"Series\": 2,\"x\": 14,\"y\": 8.1},\n",
    "\t\t\t    {\"Series\": 2,\"x\": 6,\"y\": 6.13},\n",
    "\t\t\t    {\"Series\": 2,\"x\": 4,\"y\": 3.1},\n",
    "\t\t\t    {\"Series\": 2,\"x\": 12,\"y\": 9.13},\n",
    "\t\t\t    {\"Series\": 2,\"x\": 7,\"y\": 7.26},\n",
    "\t\t\t    {\"Series\": 2,\"x\": 5,\"y\": 4.74},\n",
    "\t\t\t    {\"Series\": 3,\"x\": 10,\"y\": 7.46},\n",
    "\t\t\t    {\"Series\": 3,\"x\": 8,\"y\": 6.77},\n",
    "\t\t\t    {\"Series\": 3,\"x\": 13,\"y\": 12.74},\n",
    "\t\t\t    {\"Series\": 3,\"x\": 9,\"y\": 7.11},\n",
    "\t\t\t    {\"Series\": 3,\"x\": 11,\"y\": 7.81},\n",
    "\t\t\t    {\"Series\": 3,\"x\": 14,\"y\": 8.84},\n",
    "\t\t\t    {\"Series\": 3,\"x\": 6,\"y\": 6.08},\n",
    "\t\t\t    {\"Series\": 3,\"x\": 4,\"y\": 5.39},\n",
    "\t\t\t    {\"Series\": 3,\"x\": 12,\"y\": 8.15},\n",
    "\t\t\t    {\"Series\": 3,\"x\": 7,\"y\": 6.42},\n",
    "\t\t\t    {\"Series\": 3,\"x\": 5,\"y\": 5.73},\t\t\t\n",
    "\t\t\t    {\"Series\": 4,\"x\": 8,\"y\": 6.58},\n",
    "\t\t\t    {\"Series\": 3,\"x\": 8,\"y\": 5.76},\n",
    "\t\t\t    {\"Series\": 3,\"x\": 8,\"y\": 7.71},\n",
    "\t\t\t    {\"Series\": 3,\"x\": 8,\"y\": 8.84},\n",
    "\t\t\t    {\"Series\": 3,\"x\": 8,\"y\": 8.47},\n",
    "\t\t\t    {\"Series\": 3,\"x\": 8,\"y\": 7.04},\n",
    "\t\t\t    {\"Series\": 3,\"x\": 8,\"y\": 5.25},\n",
    "\t\t\t    {\"Series\": 3,\"x\": 19,\"y\": 12.5},\n",
    "\t\t\t    {\"Series\": 3,\"x\": 8,\"y\": 5.56},\n",
    "\t\t\t    {\"Series\": 3,\"x\": 8,\"y\": 7.91},\n",
    "\t\t\t    {\"Series\": 3,\"x\": 8,\"y\": 6.89}\n",
    "\t\t\t\t];\n",
    "    var margin = {top: 20, right: 20, bottom: 30, left: 40},\n",
    "        width = 960 - margin.left - margin.right,\n",
    "        height = 500 - margin.top - margin.bottom;\n",
    "\n",
    "    create_scatter = function (margin, width, height, data, x_column, y_column, color_column){\n",
    "        // YOUR CODE GOES HERE\n",
    "                    }\n",
    "\n",
    "    var vis1 = create_scatter(margin, width, height, data, \"x\", \"y\",\"Series\");\n",
    "\n",
    "    </script>\n",
    "    </body>\n",
    "    </html>"
   ]
  }
 ],
 "metadata": {
  "celltoolbar": "Slideshow",
  "kernelspec": {
   "display_name": "Python 2",
   "language": "python",
   "name": "python2"
  },
  "language_info": {
   "codemirror_mode": {
    "name": "ipython",
    "version": 2
   },
   "file_extension": ".py",
   "mimetype": "text/x-python",
   "name": "python",
   "nbconvert_exporter": "python",
   "pygments_lexer": "ipython2",
   "version": "2.7.6"
  }
 },
 "nbformat": 4,
 "nbformat_minor": 0
}
