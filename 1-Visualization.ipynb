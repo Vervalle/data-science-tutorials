{
 "cells": [
  {
   "cell_type": "markdown",
   "metadata": {},
   "source": [
    "# Datasets"
   ]
  },
  {
   "cell_type": "code",
   "execution_count": 1,
   "metadata": {
    "collapsed": false
   },
   "outputs": [],
   "source": [
    "%matplotlib inline"
   ]
  },
  {
   "cell_type": "markdown",
   "metadata": {},
   "source": [
    "## Fisher's Iris Data\n",
    "\n",
    "For introducing the different supervised learners we will use the IRIS data set.\n",
    "\n",
    "The iris data set characterises iris-flowers into three sub-groups according to length and width of the outer (petal) and inner (sepal) leaves of a flower.\n",
    "\n",
    "**Sepal vs. Petal**\n",
    "\n",
    "\n",
    "<img src=\"http://upload.wikimedia.org/wikipedia/commons/thumb/7/78/Petal-sepal.jpg/220px-Petal-sepal.jpg\"/>\n",
    "\n",
    "**The three classes (setosa, versicolor, virginica)**\n",
    "\n",
    "<div class =\"img-responsive\" style=\"display:inline\" >\n",
    "<img src=\"http://upload.wikimedia.org/wikipedia/commons/thumb/5/56/Kosaciec_szczecinkowaty_Iris_setosa.jpg/220px-Kosaciec_szczecinkowaty_Iris_setosa.jpg\" width=\"30%\"/>\n",
    "<img src=\"http://upload.wikimedia.org/wikipedia/commons/thumb/4/41/Iris_versicolor_3.jpg/220px-Iris_versicolor_3.jpg\" width=\"30%\"/>\n",
    "<img src=\"http://upload.wikimedia.org/wikipedia/commons/thumb/9/9f/Iris_virginica.jpg/220px-Iris_virginica.jpg\" width=\"30%\"  height=\"10%\" style=\"overflow:hidden\"/>\n",
    "</div>\n",
    "\n",
    "\n",
    "Images from Wikipedia\n",
    "\n"
   ]
  },
  {
   "cell_type": "code",
   "execution_count": 7,
   "metadata": {
    "collapsed": false
   },
   "outputs": [
    {
     "name": "stdout",
     "output_type": "stream",
     "text": [
      "Classes: [0 1 2]\n",
      "Iris Plants Database\n",
      "\n",
      "Notes\n",
      "-----\n",
      "Data Set Characteristics:\n",
      "    :Number of Instances: 150 (50 in each of three classes)\n",
      "    :Number of Attributes: 4 numeric, predictive attributes and the class\n",
      "    :Attribute Information:\n",
      "        - sepal length in cm\n",
      "        - sepal width in cm\n",
      "        - petal length in cm\n",
      "        - petal width in cm\n",
      "        - class:\n",
      "                - Iris-Setosa\n",
      "                - Iris-Versicolour\n",
      "                - Iris-Virginica\n",
      "    :Summary Statistics:\n",
      "\n",
      "    ============== ==== ==== ======= ===== ====================\n",
      "                    Min  Max   Mean    SD   Class Correlation\n",
      "    ============== ==== ==== ======= ===== ====================\n",
      "    sepal length:   4.3  7.9   5.84   0.83    0.7826\n",
      "    sepal width:    2.0  4.4   3.05   0.43   -0.4194\n",
      "    petal length:   1.0  6.9   3.76   1.76    0.9490  (high!)\n",
      "    petal width:    0.1  2.5   1.20  0.76     0.9565  (high!)\n",
      "    ============== ==== ==== ======= ===== ====================\n",
      "\n",
      "    :Missing Attribute Values: None\n",
      "    :Class Distribution: 33.3% for each of 3 classes.\n",
      "    :Creator: R.A. Fisher\n",
      "    :Donor: Michael Marshall (MARSHALL%PLU@io.arc.nasa.gov)\n",
      "    :Date: July, 1988\n",
      "\n",
      "This is a copy of UCI ML iris datasets.\n",
      "http://archive.ics.uci.edu/ml/datasets/Iris\n",
      "\n",
      "The famous Iris database, first used by Sir R.A Fisher\n",
      "\n",
      "This is perhaps the best known database to be found in the\n",
      "pattern recognition literature.  Fisher's paper is a classic in the field and\n",
      "is referenced frequently to this day.  (See Duda & Hart, for example.)  The\n",
      "data set contains 3 classes of 50 instances each, where each class refers to a\n",
      "type of iris plant.  One class is linearly separable from the other 2; the\n",
      "latter are NOT linearly separable from each other.\n",
      "\n",
      "References\n",
      "----------\n",
      "   - Fisher,R.A. \"The use of multiple measurements in taxonomic problems\"\n",
      "     Annual Eugenics, 7, Part II, 179-188 (1936); also in \"Contributions to\n",
      "     Mathematical Statistics\" (John Wiley, NY, 1950).\n",
      "   - Duda,R.O., & Hart,P.E. (1973) Pattern Classification and Scene Analysis.\n",
      "     (Q327.D83) John Wiley & Sons.  ISBN 0-471-22361-1.  See page 218.\n",
      "   - Dasarathy, B.V. (1980) \"Nosing Around the Neighborhood: A New System\n",
      "     Structure and Classification Rule for Recognition in Partially Exposed\n",
      "     Environments\".  IEEE Transactions on Pattern Analysis and Machine\n",
      "     Intelligence, Vol. PAMI-2, No. 1, 67-71.\n",
      "   - Gates, G.W. (1972) \"The Reduced Nearest Neighbor Rule\".  IEEE Transactions\n",
      "     on Information Theory, May 1972, 431-433.\n",
      "   - See also: 1988 MLC Proceedings, 54-64.  Cheeseman et al\"s AUTOCLASS II\n",
      "     conceptual clustering system finds 3 classes in the data.\n",
      "   - Many, many more ...\n",
      "\n"
     ]
    }
   ],
   "source": [
    "import numpy as np\n",
    "from sklearn import datasets\n",
    "\n",
    "iris = datasets.load_iris()\n",
    "print (\"Classes:\", np.unique(iris.target))\n",
    "print (iris[\"DESCR\"])"
   ]
  },
  {
   "cell_type": "code",
   "execution_count": 15,
   "metadata": {
    "collapsed": false
   },
   "outputs": [
    {
     "data": {
      "image/png": "[encoded data removed]",
      "text/plain": [
       "<matplotlib.figure.Figure at 0x7f1a235657b8>"
      ]
     },
     "metadata": {},
     "output_type": "display_data"
    }
   ],
   "source": [
    "import matplotlib.pyplot as plt\n",
    "\n",
    "X = iris.data[:, :2]    # select first two features out of four\n",
    "Y = iris.target\n",
    "\n",
    "x_min, x_max = X[:, 0].min() - .5, X[:, 0].max() + .5\n",
    "y_min, y_max = X[:, 1].min() - .5, X[:, 1].max() + .5\n",
    "\n",
    "plt.figure()    # initialize new figure\n",
    "plt.clf()       # clear canvas\n",
    "\n",
    "# Plot the training points\n",
    "plt.scatter(X[:, 0], X[:, 1], c=Y)\n",
    "plt.xlabel('Sepal length')\n",
    "plt.ylabel('Sepal width')\n",
    "\n",
    "plt.xlim(x_min, x_max)\n",
    "plt.ylim(y_min, y_max)\n",
    "\n",
    "plt.show()"
   ]
  },
  {
   "cell_type": "markdown",
   "metadata": {},
   "source": [
    "## Boston dataset"
   ]
  },
  {
   "cell_type": "markdown",
   "metadata": {},
   "source": [
    "**Example**\n",
    "\n",
    "Lets assume we have collected a data set about cars:\n",
    "\n",
    "|Customer Group| Model | Mileage | Power | Price |\n",
    "|-|-|-|-|-|\n",
    "|Family| Renault Scienic | 50,000 | 132 | 5,000|\n",
    "|Upper Class | Porsche Carrera | 10,000 | 332 | 50,000|\n",
    "|Family | Touran  | 80,000 | 90 | 15,000|\n",
    "| ... | ... | ... | ... | ... |\n",
    "|?| Wonder Car| 500 | 4000 | ?|\n",
    "\n",
    "- Given a large set of cars, can we group together cars with similar price, power and mileage?\n",
    "- Can we predict the price of a new car given mileage and power?\n",
    "- Can we predict the customer group?\n",
    "- What kind of cars do upper class people drive?"
   ]
  },
  {
   "cell_type": "markdown",
   "metadata": {},
   "source": [
    "#### Real World Applications"
   ]
  },
  {
   "cell_type": "markdown",
   "metadata": {},
   "source": [
    "- Image Analysis: Face Recognition, Object Detection, Self-driving Cars\n",
    "- Text Analysis: POS Tagging, Named Entity Recognition, Speech-to-Text Analysis\n",
    "- Robotics\n",
    "- E-Commerce\n",
    "- Information Retrieval and Recommender Systems\n",
    "- $\\ldots$\n"
   ]
  },
  {
   "cell_type": "markdown",
   "metadata": {},
   "source": [
    "### General Approach"
   ]
  },
  {
   "cell_type": "markdown",
   "metadata": {},
   "source": [
    "The usual machine learning setup is:\n",
    "\n",
    "1. **$n$ data samples** (e.g. $n$ cars), representing the past experience\n",
    "2. Every data sample is described by a **set of d features/attributes** (e.g. horsepower and price of the car)\n",
    "\n",
    "|$Attribut_1$|$Attribut_2$|$\\ldots$|$Attribut_d$|\n",
    "|-|-|-|-|\n",
    "|$Attribut_1$ of $Example_1$|$Attribut_2$ of $Example_1$ |$\\ldots$|$Attribut_d$ of $Example_1$|\n",
    "|$Attribut_1$ of $Example_2$|$Attribut_2$ of $Example_2$ |$\\ldots$|$Attribut_d$ of $Example_2$|\n",
    "|$\\ldots$|$\\ldots$|$\\ldots$|$\\ldots$|\n",
    "|$Attribut_d$ of $Example_n$|$Attribut_2$ of $Example_n$ |$\\ldots$|$Attribut_d$ of $Example_n$|\n",
    "\n"
   ]
  },
  {
   "cell_type": "markdown",
   "metadata": {},
   "source": [
    "Machine learning estimates a **model** (also called hypothesis) that **'best' fits the data**. Fitting means the model\n",
    "\n",
    "1. **predicts** features of yet unkown examples (e.g. predict the class a flower belongs to)\n",
    "2. **describes** properties of the examples (e.g. points belonging togehter)\n",
    "\n",
    "Building such a model is called learning, training or model fitting.\n",
    "\n",
    "Using such a model is often call \"testing\", \"model estimation\" or \"inference step\".\n",
    "\n",
    "Converting data into the necessary format for learning and testing is called **preprocessing**"
   ]
  },
  {
   "cell_type": "markdown",
   "metadata": {},
   "source": [
    "### Preprocessing"
   ]
  },
  {
   "cell_type": "markdown",
   "metadata": {},
   "source": [
    "Refers to the task to create and prepare the data to be consumed by the learning algorithm. Usually, the target format is an matrix holding the preprocessed data. Sklearn uses numpy for representing data.\n",
    "\n",
    "\n",
    "Preprocessing steps can be summarized as follows:\n",
    "\n",
    "1. **Feature Extraction/Integration**: Convert data into matrix or integrate different data sources into one matrix\n",
    "2. **Feature Manipulation**: Manipulate and reorganise the features of a matrix\n",
    "    * *Feature Weighting/Scaling*: Convert the range of feature values\n",
    "    * *Feature Selection*: Removing unnecessary or low quality features\n",
    "    * *Feature Transformation (Dimensionality Reduction)*: merge or combine existing features to create new features   \n",
    "    \n",
    "3. **Dataset Manipulation**: Manipulate/eliminate data points\n",
    "    * *Subsampling*: Reduce the amount of data points in case the data set is to large (Squashing)\n",
    "    * *Outlier Detection*: Remove data sets that do not fit to the data distribution\n",
    "             \n",
    "<p>\n",
    "<div class=\"alert alert-info\">\n",
    "**Feature Engineering**, the task of creating features from real world data, is the most important and time consuming step (when you apply machine learning techniques)\n",
    "</div>\n",
    "\n",
    "See http://scikit-learn.org/stable/data_transforms.html for details on preprocessing."
   ]
  },
  {
   "cell_type": "markdown",
   "metadata": {},
   "source": [
    "### Loading/Creating standard data sets"
   ]
  },
  {
   "cell_type": "markdown",
   "metadata": {},
   "source": [
    "sklearn offers functions for \n",
    "- loading pre-packaged data sets\n",
    "- importing data sets from other sources (in various formats, in particular `svm_light`)\n",
    "- generating your own artifical data"
   ]
  },
  {
   "cell_type": "markdown",
   "metadata": {},
   "source": [
    "### Load Pre-Packaged Dataset"
   ]
  },
  {
   "cell_type": "code",
   "execution_count": 3,
   "metadata": {
    "collapsed": false
   },
   "outputs": [
    {
     "name": "stdout",
     "output_type": "stream",
     "text": [
      "Boston House Prices dataset\n",
      "\n",
      "Notes\n",
      "------\n",
      "Data Set Characteristics:  \n",
      "\n",
      "    :Number of Instances: 506 \n",
      "\n",
      "    :Number of Attributes: 13 numeric/categorical predictive\n",
      "    \n",
      "    :Median Value (attribute 14) is usually the target\n",
      "\n",
      "    :Attribute Information (in order):\n",
      "        - CRIM     per capita crime rate by town\n",
      "        - ZN       proportion of residential land zoned for lots over 25,000 sq.ft.\n",
      "        - INDUS    proportion of non-retail business acres per town\n",
      "        - CHAS     Charles River dummy variable (= 1 if tract bounds river; 0 otherwise)\n",
      "        - NOX      nitric oxides concentration (parts per 10 million)\n",
      "        - RM       average number of rooms per dwelling\n",
      "        - AGE      proportion of owner-occupied units built prior to 1940\n",
      "        - DIS      weighted distances to five Boston employment centres\n",
      "        - RAD      index of accessibility to radial highways\n",
      "        - TAX      full-value property-tax rate per $10,000\n",
      "        - PTRATIO  pupil-teacher ratio by town\n",
      "        - B        1000(Bk - 0.63)^2 where Bk is the proportion of blacks by town\n",
      "        - LSTAT    % lower status of the population\n",
      "        - MEDV     Median value of owner-occupied homes in $1000's\n",
      "\n",
      "    :Missing Attribute Values: None\n",
      "\n",
      "    :Creator: Harrison, D. and Rubinfeld, D.L.\n",
      "\n",
      "This is a copy of UCI ML housing dataset.\n",
      "http://archive.ics.uci.edu/ml/datasets/Housing\n",
      "\n",
      "\n",
      "This dataset was taken from the StatLib library which is maintained at Carnegie Mellon University.\n",
      "\n",
      "The Boston house-price data of Harrison, D. and Rubinfeld, D.L. 'Hedonic\n",
      "prices and the demand for clean air', J. Environ. Economics & Management,\n",
      "vol.5, 81-102, 1978.   Used in Belsley, Kuh & Welsch, 'Regression diagnostics\n",
      "...', Wiley, 1980.   N.B. Various transformations are used in the table on\n",
      "pages 244-261 of the latter.\n",
      "\n",
      "The Boston house-price data has been used in many machine learning papers that address regression\n",
      "problems.   \n",
      "     \n",
      "**References**\n",
      "\n",
      "   - Belsley, Kuh & Welsch, 'Regression diagnostics: Identifying Influential Data and Sources of Collinearity', Wiley, 1980. 244-261.\n",
      "   - Quinlan,R. (1993). Combining Instance-Based and Model-Based Learning. In Proceedings on the Tenth International Conference of Machine Learning, 236-243, University of Massachusetts, Amherst. Morgan Kaufmann.\n",
      "   - many more! (see http://archive.ics.uci.edu/ml/datasets/Housing)\n",
      "\n"
     ]
    }
   ],
   "source": [
    "import sklearn.datasets as ds\n",
    "boston = ds.load_boston()\n",
    "print(boston.DESCR)"
   ]
  },
  {
   "cell_type": "code",
   "execution_count": 4,
   "metadata": {
    "collapsed": false
   },
   "outputs": [
    {
     "name": "stdout",
     "output_type": "stream",
     "text": [
      "Data Shape: (506, 13)\n",
      "Features: ['CRIM' 'ZN' 'INDUS' 'CHAS' 'NOX' 'RM' 'AGE' 'DIS' 'RAD' 'TAX' 'PTRATIO'\n",
      " 'B' 'LSTAT']\n",
      "Labels: (506,)\n"
     ]
    }
   ],
   "source": [
    "print(\"Data Shape:\", boston.data.shape)\n",
    "print(\"Features:\", boston.feature_names)\n",
    "print(\"Labels:\", boston.target.shape)"
   ]
  },
  {
   "cell_type": "markdown",
   "metadata": {
    "collapsed": true
   },
   "source": [
    "## UCI CAR Dataset"
   ]
  },
  {
   "cell_type": "code",
   "execution_count": 5,
   "metadata": {
    "collapsed": false
   },
   "outputs": [
    {
     "name": "stdout",
     "output_type": "stream",
     "text": [
      "  % Total    % Received % Xferd  Average Speed   Time    Time     Time  Current\n",
      "                                 Dload  Upload   Total   Spent    Left  Speed\n",
      "100 51867  100 51867    0     0  71405      0 --:--:-- --:--:-- --:--:-- 71540\n",
      "  % Total    % Received % Xferd  Average Speed   Time    Time     Time  Current\n",
      "                                 Dload  Upload   Total   Spent    Left  Speed\n",
      "100  3097  100  3097    0     0   8530      0 --:--:-- --:--:-- --:--:--  8578\n",
      "1. Title: Car Evaluation Database\n",
      "\n",
      "2. Sources:\n",
      "   (a) Creator: Marko Bohanec\n",
      "   (b) Donors: Marko Bohanec   (marko.bohanec@ijs.si)\n",
      "               Blaz Zupan      (blaz.zupan@ijs.si)\n",
      "   (c) Date: June, 1997\n",
      "\n",
      "3. Past Usage:\n",
      "\n",
      "   The hierarchical decision model, from which this dataset is\n",
      "   derived, was first presented in \n",
      "\n",
      "   M. Bohanec and V. Rajkovic: Knowledge acquisition and explanation for\n",
      "   multi-attribute decision making. In 8th Intl Workshop on Expert\n",
      "   Systems and their Applications, Avignon, France. pages 59-78, 1988.\n",
      "\n",
      "   Within machine-learning, this dataset was used for the evaluation\n",
      "   of HINT (Hierarchy INduction Tool), which was proved to be able to\n",
      "   completely reconstruct the original hierarchical model. This,\n",
      "   together with a comparison with C4.5, is presented in\n",
      "\n",
      "   B. Zupan, M. Bohanec, I. Bratko, J. Demsar: Machine learning by\n",
      "   function decomposition. ICML-97, Nashville, TN. 1997 (to appear)\n",
      "\n",
      "4. Relevant Information Paragraph:\n",
      "\n",
      "   Car Evaluation Database was derived from a simple hierarchical\n",
      "   decision model originally developed for the demonstration of DEX\n",
      "   (M. Bohanec, V. Rajkovic: Expert system for decision\n",
      "   making. Sistemica 1(1), pp. 145-157, 1990.). The model evaluates\n",
      "   cars according to the following concept structure:\n",
      "\n",
      "   CAR                      car acceptability\n",
      "   . PRICE                  overall price\n",
      "   . . buying               buying price\n",
      "   . . maint                price of the maintenance\n",
      "   . TECH                   technical characteristics\n",
      "   . . COMFORT              comfort\n",
      "   . . . doors              number of doors\n",
      "   . . . persons            capacity in terms of persons to carry\n",
      "   . . . lug_boot           the size of luggage boot\n",
      "   . . safety               estimated safety of the car\n",
      "\n",
      "   Input attributes are printed in lowercase. Besides the target\n",
      "   concept (CAR), the model includes three intermediate concepts:\n",
      "   PRICE, TECH, COMFORT. Every concept is in the original model\n",
      "   related to its lower level descendants by a set of examples (for\n",
      "   these examples sets see http://www-ai.ijs.si/BlazZupan/car.html).\n",
      "\n",
      "   The Car Evaluation Database contains examples with the structural\n",
      "   information removed, i.e., directly relates CAR to the six input\n",
      "   attributes: buying, maint, doors, persons, lug_boot, safety.\n",
      "\n",
      "   Because of known underlying concept structure, this database may be\n",
      "   particularly useful for testing constructive induction and\n",
      "   structure discovery methods.\n",
      "\n",
      "5. Number of Instances: 1728\n",
      "   (instances completely cover the attribute space)\n",
      "\n",
      "6. Number of Attributes: 6\n",
      "\n",
      "7. Attribute Values:\n",
      "\n",
      "   buying       v-high, high, med, low\n",
      "   maint        v-high, high, med, low\n",
      "   doors        2, 3, 4, 5-more\n",
      "   persons      2, 4, more\n",
      "   lug_boot     small, med, big\n",
      "   safety       low, med, high\n",
      "\n",
      "8. Missing Attribute Values: none\n",
      "\n",
      "9. Class Distribution (number of instances per class)\n",
      "\n",
      "   class      N          N[%]\n",
      "   -----------------------------\n",
      "   unacc     1210     (70.023 %) \n",
      "   acc        384     (22.222 %) \n",
      "   good        69     ( 3.993 %) \n",
      "   v-good      65     ( 3.762 %) \n"
     ]
    }
   ],
   "source": [
    "#shell scripts for downloading the data and placing it in a corresponding directory\n",
    "!mkdir CAR \n",
    "!curl -o CAR/data \"http://archive.ics.uci.edu/ml/machine-learning-databases/car/car.data\"\n",
    "!curl -o CAR/description \"http://archive.ics.uci.edu/ml/machine-learning-databases/car/car.names\"\n",
    "#download the description and display it here.\n",
    "!cat CAR/description"
   ]
  },
  {
   "cell_type": "markdown",
   "metadata": {},
   "source": [
    "## Boston house prices dataset"
   ]
  },
  {
   "cell_type": "code",
   "execution_count": 6,
   "metadata": {
    "collapsed": false
   },
   "outputs": [],
   "source": [
    "from sklearn import datasets\n",
    "\n",
    "dataset = datasets.load_boston()\n",
    "data, target = dataset.data, dataset.target\n"
   ]
  },
  {
   "cell_type": "markdown",
   "metadata": {},
   "source": [
    "Data contains 14 columns. All columns description you can find below.\n",
    "\n",
    "* CRIM per capita crime rate by town\n",
    "* ZN proportion of residential land zoned for lots over 25,000 sq.ft.\n",
    "* INDUS proportion of non-retail business acres per town\n",
    "* CHAS Charles River dummy variable (= 1 if tract bounds river; 0 otherwise)\n",
    "* NOX nitric oxides concentration (parts per 10 million)\n",
    "* RM average number of rooms per dwelling\n",
    "* AGE proportion of owner-occupied units built prior to 1940\n",
    "* DIS weighted distances to five Boston employment centres\n",
    "* RAD index of accessibility to radial highways\n",
    "* TAX full-value property-tax rate per $ 10,000\n",
    "* PTRATIO pupil-teacher ratio by town\n",
    "\n",
    "\n",
    "B 1000(Bk - 0.63)^2 where Bk is the proportion of blacks by town\n",
    "LSTAT  lower status of the population\n",
    "From data set description we can find that there are 13 continuous attributes (including “class” attribute “MEDV”) and 1 binary-valued attribute. There is no multiple categorical data, so we don’t need to change feature dimension. But we already have one problem. If you look closer, you will find that every column has its own data range. This situation is a bad thing for Neural Network training, because input values ​​make different contributions to the calculation of the output values. Bigger values will be more important for Network which can be perceived as invalid assumption based on data. For example in the first row, in the table above, column B contains value 396.90 and column CRIM - 0.00632. To fix this issue we should transfrom all columns to get similar ranges.\n",
    "\n",
    "source : \"http://neupy.com/2015/07/04/boston_house_prices_dataset.html\""
   ]
  },
  {
   "cell_type": "markdown",
   "metadata": {},
   "source": [
    "## MNIST Dataset"
   ]
  },
  {
   "cell_type": "markdown",
   "metadata": {},
   "source": [
    "The MNIST database (Mixed National Institute of Standards and Technology database) is a large database of handwritten digits that is commonly used for training various image processing systems. The database is also widely used for training and testing in the field of machine learning. It was created by \"re-mixing\" the samples from NIST's original datasets. The creators felt that since NIST's training dataset was taken from American Census Bureau employees, while the testing dataset was taken from American high school students, it was not well-suited for machine learning experiments.[5] Furthermore, the black and white images from NIST were normalized to fit into a 20x20 pixel bounding box and anti-aliased, which introduced grayscale levels.\n",
    "The MNIST database contains 60,000 training images and 10,000 testing images. Half of the training set and half of the test set were taken from NIST's training dataset, while the other half of the training set and the other half of the test set were taken from NIST's testing dataset. There have been a number of scientific papers on attempts to achieve the lowest error rate; one paper, using a hierarchical system of convolutional neural networks, manages to get an error rate on the MNIST database of 0.23 percent. The original creators of the database keep a list of some of the methods tested on it. In their original paper, they use a support vector machine to get an error rate of 0.8 percent.\n",
    "\n",
    "The following figure is an example taken from the MNIST digits.\n",
    "<img src=\"http://knowm.org/wp-content/uploads/Screen-Shot-2015-08-14-at-2.44.57-PM.png\">"
   ]
  },
  {
   "cell_type": "markdown",
   "metadata": {
    "collapsed": true
   },
   "source": [
    "## Newsgroups data set \n",
    "\n",
    "The 20 Newsgroups data set is a collection of approximately 20,000 newsgroup documents, partitioned (nearly) evenly across 20 different newsgroups. To the best of my knowledge, it was originally collected by Ken Lang, probably for his Newsweeder: Learning to filter netnews paper, though he does not explicitly mention this collection. The 20 newsgroups collection has become a popular data set for experiments in text applications of machine learning techniques, such as text classification and text clustering.\n",
    "\n",
    "\n",
    "The data is organized into 20 different newsgroups, each corresponding to a different topic. Some of the newsgroups are very closely related to each other (e.g. comp.sys.ibm.pc.hardware / comp.sys.mac.hardware), while others are highly unrelated (e.g misc.forsale / soc.religion.christian)."
   ]
  },
  {
   "cell_type": "code",
   "execution_count": null,
   "metadata": {
    "collapsed": true
   },
   "outputs": [],
   "source": []
  }
 ],
 "metadata": {
  "anaconda-cloud": {},
  "kernelspec": {
   "display_name": "Python [conda root]",
   "language": "python",
   "name": "conda-root-py"
  },
  "language_info": {
   "codemirror_mode": {
    "name": "ipython",
    "version": 3
   },
   "file_extension": ".py",
   "mimetype": "text/x-python",
   "name": "python",
   "nbconvert_exporter": "python",
   "pygments_lexer": "ipython3",
   "version": "3.5.2"
  },
  "toc": {
   "colors": {
    "hover_highlight": "#DAA520",
    "running_highlight": "#FF0000",
    "selected_highlight": "#FFD700"
   },
   "moveMenuLeft": true,
   "nav_menu": {
    "height": "171px",
    "width": "252px"
   },
   "navigate_menu": true,
   "number_sections": true,
   "sideBar": true,
   "threshold": 4,
   "toc_cell": false,
   "toc_section_display": "block",
   "toc_window_display": false
  }
 },
 "nbformat": 4,
 "nbformat_minor": 2
}
