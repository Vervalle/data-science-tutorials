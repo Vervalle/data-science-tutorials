{
 "cells": [
  {
   "cell_type": "markdown",
   "metadata": {
    "slideshow": {
     "slide_type": "slide"
    }
   },
   "source": [
    "# Least Mean Square Algorithm for the Boston housing prices data set\n",
    "\n",
    "by \n",
    "\n",
    "[__Michael Granitzer__ (michael.granitzer@uni-passau.de)]( http://www.mendeley.com/profiles/michael-granitzer/)\n",
    "\n",
    "\n",
    "__License__\n",
    "\n",
    "This work is licensded under a [Creative Commons Attribution 3.0 Unported License](http://creativecommons.org/licenses/by/3.0/)\n",
    "\n",
    "\n"
   ]
  },
  {
   "cell_type": "markdown",
   "metadata": {
    "slideshow": {
     "slide_type": "slide"
    }
   },
   "source": [
    "## Introduction and Aims of the Tutorial\n",
    "\n",
    "This example demonstrates the implementation of a simple, gradient descent based Least Mean Square algorithm for fitting the [Boston Housing Prices Data Set](http://archive.ics.uci.edu/ml/datasets/Housing). \n",
    "\n",
    "We will use Numpy,Mathplotlib/Pylab and scikit-learn (mainly for loading the data set and some small cross-validation) to implement the LMS Algorithm and evaluate it.  \n",
    "\n",
    "A large bunch of Machine Learning theory could be developed around the LMS Algorithm. However this tutorial aims more on the practical side. In particular you should learn the following points:\n",
    "\n",
    "* Given a set of data points, how can we learn a predictor for extrapolating unkown data points?\n",
    "* What are the properties of an iterative, stoachstic algorithm like the LMS for doing so?\n",
    "* What is the workflow for doing data anaylsis?\n",
    "* How to estimate the goodness of fit of a found predictor?\n",
    "* How to find suitable parameters for a problem?\n",
    "\n",
    "I hope you will enjoy this tutorial\n"
   ]
  },
  {
   "cell_type": "markdown",
   "metadata": {
    "slideshow": {
     "slide_type": "slide"
    }
   },
   "source": [
    "## Setting up IPython Notebook\n",
    "The code below simply sets up ipython notebook and displays graphs inline (e.g. as HTML)"
   ]
  },
  {
   "cell_type": "code",
   "execution_count": 24,
   "metadata": {
    "collapsed": false
   },
   "outputs": [
    {
     "name": "stdout",
     "output_type": "stream",
     "text": [
      "Populating the interactive namespace from numpy and matplotlib\n"
     ]
    }
   ],
   "source": [
    "%pylab inline"
   ]
  },
  {
   "cell_type": "code",
   "execution_count": 25,
   "metadata": {
    "collapsed": false
   },
   "outputs": [],
   "source": [
    "import numpy as np\n",
    "import sklearn.datasets as datasets\n",
    "ds = datasets.load_boston()"
   ]
  },
  {
   "cell_type": "code",
   "execution_count": 26,
   "metadata": {
    "collapsed": false
   },
   "outputs": [
    {
     "data": {
      "text/plain": [
       "array([[  6.32000000e-03,   1.80000000e+01,   2.31000000e+00, ...,\n",
       "          1.53000000e+01,   3.96900000e+02,   4.98000000e+00],\n",
       "       [  2.73100000e-02,   0.00000000e+00,   7.07000000e+00, ...,\n",
       "          1.78000000e+01,   3.96900000e+02,   9.14000000e+00],\n",
       "       [  2.72900000e-02,   0.00000000e+00,   7.07000000e+00, ...,\n",
       "          1.78000000e+01,   3.92830000e+02,   4.03000000e+00],\n",
       "       ..., \n",
       "       [  6.07600000e-02,   0.00000000e+00,   1.19300000e+01, ...,\n",
       "          2.10000000e+01,   3.96900000e+02,   5.64000000e+00],\n",
       "       [  1.09590000e-01,   0.00000000e+00,   1.19300000e+01, ...,\n",
       "          2.10000000e+01,   3.93450000e+02,   6.48000000e+00],\n",
       "       [  4.74100000e-02,   0.00000000e+00,   1.19300000e+01, ...,\n",
       "          2.10000000e+01,   3.96900000e+02,   7.88000000e+00]])"
      ]
     },
     "execution_count": 26,
     "metadata": {},
     "output_type": "execute_result"
    }
   ],
   "source": [
    "#that is the data \n",
    "ds.data"
   ]
  },
  {
   "cell_type": "code",
   "execution_count": 27,
   "metadata": {
    "collapsed": false
   },
   "outputs": [
    {
     "data": {
      "text/plain": [
       "(506, 13)"
      ]
     },
     "execution_count": 27,
     "metadata": {},
     "output_type": "execute_result"
    }
   ],
   "source": [
    "#it has 13 attributes or features and 506 data points\n",
    "ds.data.shape"
   ]
  },
  {
   "cell_type": "code",
   "execution_count": 28,
   "metadata": {
    "collapsed": false
   },
   "outputs": [
    {
     "data": {
      "text/plain": [
       "array(['CRIM', 'ZN', 'INDUS', 'CHAS', 'NOX', 'RM', 'AGE', 'DIS', 'RAD',\n",
       "       'TAX', 'PTRATIO', 'B', 'LSTAT'], \n",
       "      dtype='<U7')"
      ]
     },
     "execution_count": 28,
     "metadata": {},
     "output_type": "execute_result"
    }
   ],
   "source": [
    "#and here are the feautre names. note that the last feature name is the target\n",
    "ds.feature_names"
   ]
  },
  {
   "cell_type": "code",
   "execution_count": 29,
   "metadata": {
    "collapsed": false
   },
   "outputs": [
    {
     "data": {
      "text/plain": [
       "(506,)"
      ]
     },
     "execution_count": 29,
     "metadata": {},
     "output_type": "execute_result"
    }
   ],
   "source": [
    "#here are the target values for the 506 data points\n",
    "ds.target.shape"
   ]
  },
  {
   "cell_type": "code",
   "execution_count": 30,
   "metadata": {
    "collapsed": false
   },
   "outputs": [
    {
     "name": "stderr",
     "output_type": "stream",
     "text": [
      "/root/anaconda3/lib/python3.5/site-packages/matplotlib/figure.py:402: UserWarning: matplotlib is currently using a non-GUI backend, so cannot show the figure\n",
      "  \"matplotlib is currently using a non-GUI backend, \"\n"
     ]
    },
    {
     "name": "stdout",
     "output_type": "stream",
     "text": [
      "Boston House Prices dataset\n",
      "===========================\n",
      "\n",
      "Notes\n",
      "------\n",
      "Data Set Characteristics:  \n",
      "\n",
      "    :Number of Instances: 506 \n",
      "\n",
      "    :Number of Attributes: 13 numeric/categorical predictive\n",
      "    \n",
      "    :Median Value (attribute 14) is usually the target\n",
      "\n",
      "    :Attribute Information (in order):\n",
      "        - CRIM     per capita crime rate by town\n",
      "        - ZN       proportion of residential land zoned for lots over 25,000 sq.ft.\n",
      "        - INDUS    proportion of non-retail business acres per town\n",
      "        - CHAS     Charles River dummy variable (= 1 if tract bounds river; 0 otherwise)\n",
      "        - NOX      nitric oxides concentration (parts per 10 million)\n",
      "        - RM       average number of rooms per dwelling\n",
      "        - AGE      proportion of owner-occupied units built prior to 1940\n",
      "        - DIS      weighted distances to five Boston employment centres\n",
      "        - RAD      index of accessibility to radial highways\n",
      "        - TAX      full-value property-tax rate per $10,000\n",
      "        - PTRATIO  pupil-teacher ratio by town\n",
      "        - B        1000(Bk - 0.63)^2 where Bk is the proportion of blacks by town\n",
      "        - LSTAT    % lower status of the population\n",
      "        - MEDV     Median value of owner-occupied homes in $1000's\n",
      "\n",
      "    :Missing\n"
     ]
    },
    {
     "data": {
      "image/png": "[encoded data removed]",
      "text/plain": [
       "<matplotlib.figure.Figure at 0x7f27c5e16dd8>"
      ]
     },
     "metadata": {},
     "output_type": "display_data"
    },
    {
     "data": {
      "image/png": "[encoded data removed]",
      "text/plain": [
       "<matplotlib.figure.Figure at 0x7f27c5ec42e8>"
      ]
     },
     "metadata": {},
     "output_type": "display_data"
    },
    {
     "data": {
      "image/png": "[encoded data removed]",
      "text/plain": [
       "<matplotlib.figure.Figure at 0x7f27c5e30c88>"
      ]
     },
     "metadata": {},
     "output_type": "display_data"
    },
    {
     "data": {
      "image/png": "[encoded data removed]",
      "text/plain": [
       "<matplotlib.figure.Figure at 0x7f27c6446470>"
      ]
     },
     "metadata": {},
     "output_type": "display_data"
    },
    {
     "data": {
      "image/png": "[encoded data removed]",
      "text/plain": [
       "<matplotlib.figure.Figure at 0x7f27c5e60f98>"
      ]
     },
     "metadata": {},
     "output_type": "display_data"
    },
    {
     "data": {
      "image/png": "[encoded data removed]",
      "text/plain": [
       "<matplotlib.figure.Figure at 0x7f27c5eafda0>"
      ]
     },
     "metadata": {},
     "output_type": "display_data"
    },
    {
     "data": {
      "image/png": "[encoded data removed]",
      "text/plain": [
       "<matplotlib.figure.Figure at 0x7f27c5f374e0>"
      ]
     },
     "metadata": {},
     "output_type": "display_data"
    },
    {
     "data": {
      "image/png": "[encoded data removed]",
      "text/plain": [
       "<matplotlib.figure.Figure at 0x7f27c6022b70>"
      ]
     },
     "metadata": {},
     "output_type": "display_data"
    },
    {
     "data": {
      "image/png": "[encoded data removed]",
      "text/plain": [
       "<matplotlib.figure.Figure at 0x7f27c5f86e10>"
      ]
     },
     "metadata": {},
     "output_type": "display_data"
    },
    {
     "data": {
      "image/png": "[encoded data removed]",
      "text/plain": [
       "<matplotlib.figure.Figure at 0x7f27c617f9b0>"
      ]
     },
     "metadata": {},
     "output_type": "display_data"
    },
    {
     "data": {
      "image/png": "[encoded data removed]",
      "text/plain": [
       "<matplotlib.figure.Figure at 0x7f27c5fec438>"
      ]
     },
     "metadata": {},
     "output_type": "display_data"
    },
    {
     "data": {
      "image/png": "[encoded data removed]",
      "text/plain": [
       "<matplotlib.figure.Figure at 0x7f27c6000f60>"
      ]
     },
     "metadata": {},
     "output_type": "display_data"
    },
    {
     "data": {
      "image/png": "[encoded data removed]",
      "text/plain": [
       "<matplotlib.figure.Figure at 0x7f27c6116dd8>"
      ]
     },
     "metadata": {},
     "output_type": "display_data"
    }
   ],
   "source": [
    "\n",
    "for i in range(ds.data.shape[1]):\n",
    "    fig = figure()\n",
    "    ax1 = fig.add_subplot(1,1,1)\n",
    "    ax1.boxplot(ds.data[:,i],vert=False)\n",
    "    ax1.set_title(\"Boston Housing Data \"+ds.feature_names[i])\n",
    "    ax1.set_yticklabels(ds.feature_names[i])\n",
    "    fig.show()\n",
    "\n",
    "print (ds.DESCR[:1236])"
   ]
  },
  {
   "cell_type": "markdown",
   "metadata": {
    "slideshow": {
     "slide_type": "slide"
    }
   },
   "source": [
    "## The LMS Function\n",
    "Now lets code the LMS function as outlined in the [Data Mining and Machine Learning slides, pg ML:I-30](http://www.uni-weimar.de/medien/webis/teaching/lecturenotes/machine-learning/unit-en-ml-introduction.pdf) "
   ]
  },
  {
   "cell_type": "code",
   "execution_count": 31,
   "metadata": {
    "collapsed": false
   },
   "outputs": [],
   "source": [
    "\n",
    "def lms(data,eta=0.1, iterations=1000, bias=True):\n",
    "    \"\"\"\n",
    "    data: tuple containing the data matrix x and target values c(x)\n",
    "    eta: learning rate. default is 0.1\n",
    "    bias: True, if a bias term should be included\n",
    "    iterations: do some fixed amount of iterations. no need for more sophisticated stopping criterions\n",
    "    \"\"\"\n",
    "    target = data[1]\n",
    "    data = data[0]\n",
    "    dim = data.shape[1]         # get the number of attributes/features\n",
    "    num_points = data.shape[0]\n",
    "    if bias:                    # when considering the bias term we have to add w_0\n",
    "        dim+=1\n",
    "        data = np.concatenate(\n",
    "                [\n",
    "                 data, \n",
    "                 np.ones(num_points).reshape(num_points,1)\n",
    "                ]\n",
    "                ,axis=1)    # add bias term as attribute with value 1 for every data point\n",
    "    w = np.ones(dim)    # that is the weight vector as column vector    \n",
    "    for i in range(iterations):\n",
    "        next = np.random.randint(num_points)  #next example to work on\n",
    "        predict = np.dot(data[next,],w)       #predict the value of next based on the current hypothesis\n",
    "        error = target[next]-predict          # estimate the error\n",
    "        w = w + eta*error*data[next,]         # inner loop is done by numpy\n",
    "    \n",
    "    return w\n",
    "        \n"
   ]
  },
  {
   "cell_type": "markdown",
   "metadata": {},
   "source": [
    "### Remarks on the Implemtation\n",
    "  * be careful with the shapes and operations on matrices. Numpy makes a number of implicit assumption and forgives a lot when sizes do not fit perfectly (see broadcasting of numpy arrays).\n",
    "    * for example in the lms function replace `np.dot(data,w)` with `data*w` and you will do elementwise multiplication (compare array vs. matrix)"
   ]
  },
  {
   "cell_type": "markdown",
   "metadata": {
    "slideshow": {
     "slide_type": "slide"
    }
   },
   "source": [
    "## Application of the LMS to Toy Data\n",
    "Now lets do a toy example to see whether lms works"
   ]
  },
  {
   "cell_type": "code",
   "execution_count": 32,
   "metadata": {
    "collapsed": false
   },
   "outputs": [
    {
     "data": {
      "image/png": "[encoded data removed]",
      "text/plain": [
       "<matplotlib.figure.Figure at 0x7f27c5d76630>"
      ]
     },
     "metadata": {},
     "output_type": "display_data"
    },
    {
     "name": "stdout",
     "output_type": "stream",
     "text": [
      "[[0]\n",
      " [1]\n",
      " [2]\n",
      " [3]\n",
      " [4]\n",
      " [5]\n",
      " [6]\n",
      " [7]\n",
      " [8]\n",
      " [9]]\n"
     ]
    }
   ],
   "source": [
    "#create data and plot it\n",
    "toy = np.arange(10).reshape((10,1))\n",
    "target = toy*0.2 + 0.5\n",
    "plot (toy,target,'g.')\n",
    "show()\n",
    "print (toy)"
   ]
  },
  {
   "cell_type": "code",
   "execution_count": 33,
   "metadata": {
    "collapsed": false
   },
   "outputs": [
    {
     "name": "stdout",
     "output_type": "stream",
     "text": [
      "[ 0.19660566  0.52164167]\n"
     ]
    }
   ],
   "source": [
    "#run lms with parameters that work (see practical tips)\n",
    "data_zipped = (toy,target)\n",
    "print (lms(data_zipped,iterations=10000,eta=0.001))"
   ]
  },
  {
   "cell_type": "markdown",
   "metadata": {
    "slideshow": {
     "slide_type": "subslide"
    }
   },
   "source": [
    "### Remarks on Parameter Settings\n",
    "   * In the run above we get close, but do not find the correct solution. Increasing the number of iterations leads to the correct solution if $\\eta$ is small enough. \n",
    "   * chosing $\\eta$ larger needs less iteraionts. However, a too large $\\eta$ yields too large updates and the lms algorithm might diverges. So eta must be sufficiently small"
   ]
  },
  {
   "cell_type": "code",
   "execution_count": 34,
   "metadata": {
    "collapsed": false
   },
   "outputs": [
    {
     "name": "stdout",
     "output_type": "stream",
     "text": [
      "[ 0.2  0.5]\n"
     ]
    }
   ],
   "source": [
    "#lms with increased iterations. eta is small enough so we find a solution\n",
    "data_zipped = (toy,target)\n",
    "print (lms(data_zipped,iterations=50000,eta=0.01))"
   ]
  },
  {
   "cell_type": "code",
   "execution_count": 35,
   "metadata": {
    "collapsed": false
   },
   "outputs": [
    {
     "name": "stdout",
     "output_type": "stream",
     "text": [
      "[ 0.2  0.5]\n"
     ]
    }
   ],
   "source": [
    "#lms with increased eta. we find the correct solutions\n",
    "data_zipped = (toy,target)\n",
    "print (lms(data_zipped,iterations=10000,eta=0.051))"
   ]
  },
  {
   "cell_type": "code",
   "execution_count": 36,
   "metadata": {
    "collapsed": false
   },
   "outputs": [
    {
     "name": "stdout",
     "output_type": "stream",
     "text": [
      "[ nan  nan]\n"
     ]
    },
    {
     "name": "stderr",
     "output_type": "stream",
     "text": [
      "/root/anaconda3/lib/python3.5/site-packages/ipykernel/__main__.py:26: RuntimeWarning: invalid value encountered in add\n"
     ]
    }
   ],
   "source": [
    "#eta is to large. lms diverges. Data normalization would help a lot here\n",
    "data_zipped = (toy,target)\n",
    "print (lms(data_zipped,iterations=10000,eta=0.08)) "
   ]
  },
  {
   "cell_type": "code",
   "execution_count": 37,
   "metadata": {
    "collapsed": false
   },
   "outputs": [
    {
     "name": "stdout",
     "output_type": "stream",
     "text": [
      "[ 0.15689213  0.76464543]\n"
     ]
    },
    {
     "data": {
      "image/png": "[encoded data removed]",
      "text/plain": [
       "<matplotlib.figure.Figure at 0x7f27c61b1630>"
      ]
     },
     "metadata": {},
     "output_type": "display_data"
    }
   ],
   "source": [
    "w = lms(data_zipped,iterations=1000,eta=0.001)\n",
    "plot(toy,target,'g.')\n",
    "plot(toy,toy*w[0]+w[1],'r')\n",
    "print (w)\n",
    "show()"
   ]
  },
  {
   "cell_type": "code",
   "execution_count": 38,
   "metadata": {
    "collapsed": false
   },
   "outputs": [
    {
     "name": "stdout",
     "output_type": "stream",
     "text": [
      "Weights: [-0.12605615  0.09586975  0.29789608  1.02237943  1.00136728  1.2890789\n",
      "  0.09755324  0.73067527  0.52287419 -0.02696335  0.4710072   0.01778727\n",
      " -0.77648856  1.00771562]\n",
      "Some better output (using python magic)\n",
      "CRIM \t -0.126056148266\n",
      "ZN \t 0.0958697496041\n",
      "INDUS \t 0.297896079126\n",
      "CHAS \t 1.02237942663\n",
      "NOX \t 1.00136728259\n",
      "RM \t 1.28907890329\n",
      "AGE \t 0.0975532362058\n",
      "DIS \t 0.730675271428\n",
      "RAD \t 0.522874190473\n",
      "TAX \t -0.0269633545828\n",
      "PTRATIO \t 0.471007203869\n",
      "B \t 0.0177872689782\n",
      "w0 \t -0.776488557937\n"
     ]
    }
   ],
   "source": [
    "data_zipped = (ds.data,ds.target)\n",
    "w = lms(data_zipped,iterations=100000,eta=0.000001)\n",
    "print (\"Weights:\", w)\n",
    "print (\"Some better output (using python magic)\")\n",
    "for (feature,weight) in zip(ds.feature_names[0:12].tolist()+[\"w0\"],w): print (feature,\"\\t\",weight)"
   ]
  },
  {
   "cell_type": "markdown",
   "metadata": {},
   "source": [
    "Again, we have to tune $\\eta$ in order to avoid divergence. This strongly depends on the scale of the attributes, i.e. large attributes yield large updates. So lets take a look on the scale of the attributes:"
   ]
  },
  {
   "cell_type": "code",
   "execution_count": 39,
   "metadata": {
    "collapsed": false
   },
   "outputs": [
    {
     "name": "stdout",
     "output_type": "stream",
     "text": [
      "['CRIM' 'ZN' 'INDUS' 'CHAS' 'NOX' 'RM' 'AGE' 'DIS' 'RAD' 'TAX' 'PTRATIO'\n",
      " 'B' 'LSTAT']\n",
      "[  6.32000000e-03   0.00000000e+00   4.60000000e-01   0.00000000e+00\n",
      "   3.85000000e-01   3.56100000e+00   2.90000000e+00   1.12960000e+00\n",
      "   1.00000000e+00   1.87000000e+02   1.26000000e+01   3.20000000e-01\n",
      "   1.73000000e+00]\n",
      "[  88.9762  100.       27.74      1.        0.871     8.78    100.\n",
      "   12.1265   24.      711.       22.      396.9      37.97  ]\n"
     ]
    }
   ],
   "source": [
    "print (ds.feature_names)\n",
    "print (np.min(ds.data,axis=0))\n",
    "print (np.max(ds.data,axis=0))"
   ]
  },
  {
   "cell_type": "code",
   "execution_count": 40,
   "metadata": {
    "collapsed": false
   },
   "outputs": [
    {
     "name": "stdout",
     "output_type": "stream",
     "text": [
      "[[  0.00000000e+00   1.80000000e-01   6.78152493e-02 ...,   2.87234043e-01\n",
      "    1.00000000e+00   8.96799117e-02]\n",
      " [  2.35922539e-04   0.00000000e+00   2.42302053e-01 ...,   5.53191489e-01\n",
      "    1.00000000e+00   2.04470199e-01]\n",
      " [  2.35697744e-04   0.00000000e+00   2.42302053e-01 ...,   5.53191489e-01\n",
      "    9.89737254e-01   6.34657837e-02]\n",
      " ..., \n",
      " [  6.11892474e-04   0.00000000e+00   4.20454545e-01 ...,   8.93617021e-01\n",
      "    1.00000000e+00   1.07891832e-01]\n",
      " [  1.16072990e-03   0.00000000e+00   4.20454545e-01 ...,   8.93617021e-01\n",
      "    9.91300620e-01   1.31070640e-01]\n",
      " [  4.61841693e-04   0.00000000e+00   4.20454545e-01 ...,   8.93617021e-01\n",
      "    1.00000000e+00   1.69701987e-01]]\n"
     ]
    }
   ],
   "source": [
    "X = ds.data\n",
    "Y = ds.target\n",
    "X_scaled = (X-np.min(X,axis=0))/(np.max(X,axis=0)-np.min(X,axis=0))\n",
    "print (X_scaled)"
   ]
  },
  {
   "cell_type": "code",
   "execution_count": 41,
   "metadata": {
    "collapsed": false
   },
   "outputs": [
    {
     "name": "stderr",
     "output_type": "stream",
     "text": [
      "/root/anaconda3/lib/python3.5/site-packages/matplotlib/figure.py:402: UserWarning: matplotlib is currently using a non-GUI backend, so cannot show the figure\n",
      "  \"matplotlib is currently using a non-GUI backend, \"\n"
     ]
    },
    {
     "data": {
      "image/png": "[encoded data removed]",
      "text/plain": [
       "<matplotlib.figure.Figure at 0x7f27c6078e48>"
      ]
     },
     "metadata": {},
     "output_type": "display_data"
    }
   ],
   "source": [
    "fig = figure()\n",
    "ax1 = fig.add_subplot(2,1,1)\n",
    "ax1.boxplot(X,vert=False)\n",
    "ax2 = fig.add_subplot(2,1,2)\n",
    "ax2.boxplot(X_scaled,vert=False)\n",
    "ax2.set_title(\"Scaled Data\")\n",
    "ax1.set_title(\"Raw Data\")\n",
    "ax2.set_yticklabels(ds.feature_names[0:12])\n",
    "ax1.set_yticklabels(ds.feature_names[0:12])\n",
    "fig.show()"
   ]
  },
  {
   "cell_type": "code",
   "execution_count": 42,
   "metadata": {
    "collapsed": false
   },
   "outputs": [
    {
     "name": "stdout",
     "output_type": "stream",
     "text": [
      "Weights: [ -3.21230269   3.06350276  -0.42779812   3.40244905  -3.01938206\n",
      "  24.14130789   1.28638878  -6.56782124   4.09965253  -3.75130918\n",
      "  -7.50888572   5.99451679 -17.47496523  15.98072883]\n",
      "Some better output (using python magic)\n",
      "CRIM \t -3.21230268757\n",
      "ZN \t 3.06350276086\n",
      "INDUS \t -0.427798115678\n",
      "CHAS \t 3.40244904539\n",
      "NOX \t -3.0193820604\n",
      "RM \t 24.1413078858\n",
      "AGE \t 1.28638878462\n",
      "DIS \t -6.5678212431\n",
      "RAD \t 4.09965252588\n",
      "TAX \t -3.75130918217\n",
      "PTRATIO \t -7.50888571698\n",
      "B \t 5.99451678681\n",
      "w0 \t -17.4749652304\n"
     ]
    }
   ],
   "source": [
    "data_zipped = (X_scaled,ds.target)\n",
    "w = lms(data_zipped,iterations=100000,eta=0.001)\n",
    "print (\"Weights:\", w)\n",
    "print (\"Some better output (using python magic)\")\n",
    "for (feature,weight) in zip(ds.feature_names[0:12].tolist()+[\"w0\"],w): print (feature,\"\\t\",weight)"
   ]
  },
  {
   "cell_type": "markdown",
   "metadata": {
    "slideshow": {
     "slide_type": "subslide"
    }
   },
   "source": [
    "### Parameter Stability and Goodness of Fit\n",
    "\n",
    "Playing with $\\eta$ a little bit shows, that it yields to quite different solution. Moreover, the stochastic nature of the algorithm yields different solution when run with the same parameters. For example"
   ]
  },
  {
   "cell_type": "code",
   "execution_count": 43,
   "metadata": {
    "collapsed": false
   },
   "outputs": [
    {
     "name": "stdout",
     "output_type": "stream",
     "text": [
      "Some better output (using python magic)\n",
      "CRIM \t -3.226138894\n",
      "ZN \t 2.72083580833\n",
      "INDUS \t -0.270988017358\n",
      "CHAS \t 3.18253674777\n",
      "NOX \t -2.77157175578\n",
      "RM \t 24.281500321\n",
      "AGE \t 1.12402581735\n",
      "DIS \t -6.33918489653\n",
      "RAD \t 3.87596390421\n",
      "TAX \t -3.86350496285\n",
      "PTRATIO \t -7.64770194115\n",
      "B \t 5.8487093792\n",
      "w0 \t -17.1434571266\n"
     ]
    }
   ],
   "source": [
    "w = lms(data_zipped,iterations=100000,eta=0.001)\n",
    "print (\"Some better output (using python magic)\")\n",
    "for (feature,weight) in zip(ds.feature_names[0:12].tolist()+[\"w0\"],w): print (feature,\"\\t\",weight)"
   ]
  },
  {
   "cell_type": "markdown",
   "metadata": {},
   "source": [
    "This gets worser when the number of attributes gets higher (i.e. curse of dimensionality). The number of needed example for a good fit grows more than linearly (in some cases exponentially) with the number of examples.\n",
    "\n",
    "This raises two questions\n",
    "\n",
    " * How stable are parameters? \n",
    " \n",
    "   This depends on the algorithm at hand and will be discussed in other chapters.\n",
    "   \n",
    "   \n",
    " * What consitutes a good solution?\n",
    "    \n",
    "    There are several measures for the goodness of fit. We will explore the average Residual Sum of Squares. It is the average squared deviation of the predicted from the target value  ( also known as the more general concept of the Mean Squared error (MSE))\n",
    "    \n"
   ]
  },
  {
   "cell_type": "code",
   "execution_count": 44,
   "metadata": {
    "collapsed": false
   },
   "outputs": [
    {
     "name": "stdout",
     "output_type": "stream",
     "text": [
      "Goodness of Fit=28.863435, Standard-deviation=5.372470\n"
     ]
    }
   ],
   "source": [
    "#Technical Detail: do it without the bias term. otherwise we need to extend the data\n",
    "w = lms(data_zipped,iterations=100000,eta=0.1,bias=False) \n",
    "\n",
    "def calc_gof(X,w,target):\n",
    "    return np.mean((np.dot(X_scaled,w)-target)**2)\n",
    "gof = calc_gof(X_scaled,w,ds.target)\n",
    "print (\"Goodness of Fit=%f, Standard-deviation=%f\"%(gof,sqrt(gof)))"
   ]
  },
  {
   "cell_type": "markdown",
   "metadata": {},
   "source": [
    "Now we can measure the goodness of fit for several $\\eta$\n"
   ]
  },
  {
   "cell_type": "code",
   "execution_count": 45,
   "metadata": {
    "collapsed": false
   },
   "outputs": [
    {
     "name": "stdout",
     "output_type": "stream",
     "text": [
      "[107.08904705598655, 28.904367635501664, 49.206414711923749, 107.19411353752523, 291.07079828031289, 388.82802897459828]\n"
     ]
    },
    {
     "data": {
      "image/png": "[encoded data removed]",
      "text/plain": [
       "<matplotlib.figure.Figure at 0x7f27c5682208>"
      ]
     },
     "metadata": {},
     "output_type": "display_data"
    }
   ],
   "source": [
    "etas = [0.5, 0.1,0.01,0.001,0.0001,0.00001]\n",
    "gofs = []\n",
    "for eta in etas:\n",
    "    w = lms(data_zipped,iterations=1000,eta=eta,bias=False)\n",
    "    gofs.append(calc_gof(X_scaled,w,ds.target))\n",
    "\n",
    "plot(etas,gofs) #plotting comparing different etas and their goodness of fit\n",
    "print (gofs)"
   ]
  },
  {
   "cell_type": "markdown",
   "metadata": {},
   "source": [
    "And several iterations (with a fixed eta from before)"
   ]
  },
  {
   "cell_type": "code",
   "execution_count": 46,
   "metadata": {
    "collapsed": false
   },
   "outputs": [
    {
     "name": "stdout",
     "output_type": "stream",
     "text": [
      "[104.09203800334487, 53.958085496963477, 29.60168901529924, 31.785075490642434, 48.096862210428021, 31.082679092509938, 31.780441933844362, 33.944548497873136]\n"
     ]
    },
    {
     "data": {
      "text/plain": [
       "[<matplotlib.lines.Line2D at 0x7f27c5562a20>]"
      ]
     },
     "execution_count": 46,
     "metadata": {},
     "output_type": "execute_result"
    },
    {
     "data": {
      "image/png": "[encoded data removed]",
      "text/plain": [
       "<matplotlib.figure.Figure at 0x7f27c5682be0>"
      ]
     },
     "metadata": {},
     "output_type": "display_data"
    }
   ],
   "source": [
    "iterations = [10,100,1000,2000,5000,10000,15000,20000]\n",
    "gofs = []\n",
    "for iteration in iterations:\n",
    "    w = lms(data_zipped,iterations=iteration,eta=0.1,bias=False)\n",
    "    gofs.append(calc_gof(X_scaled,w,ds.target))\n",
    "print (gofs)\n",
    "plot(iterations,gofs) #plotting comparing different etas and their goodness of fit"
   ]
  },
  {
   "cell_type": "markdown",
   "metadata": {},
   "source": [
    "Note that the LMS algorithm with a stochastic gradient descent is not detrministic. So the behaviour might change."
   ]
  },
  {
   "cell_type": "markdown",
   "metadata": {
    "slideshow": {
     "slide_type": "slide"
    }
   },
   "source": [
    "## Summary\n",
    "\n",
    "Finding good parameter is the usual job in data mining. So this tutorial should give an idea of the LMS and the application to fit data. The principals are the same for nearly every machine learning/data mining problem. Just the tools, and most improtantly, the data changes.\n",
    "\n",
    "A large bunch of the Machine Learning Theory can be developed around the LMS Algorithms and we will do so later on. For now the basic steps should be sufficient. In Summary we did the following points here\n",
    "\n",
    "  * We developed an algorithm that **iteratively** adjusts the parameters towards and optimal solution. The updates follow the gradient of the error surface in a stochastic manner, that's why such algorithms are called **Stochastic Gradient Descent (SGD)** algorithms. Theory comes later\n",
    "  * We saw that **parameter settings** play an important role, in our case especially $eta$. To small yields long runtimes, to large yields to oscillation around the correct solution and potentially to divergence.\n",
    "  * In small scale examles we are able to plot the data points. However, when the number of attributes grow we cannot do this anymore. We need another way of estimating **the goodness of fit** of our model to the data. in our example we used the mean of the squared difference between prediction and true target. This **Mean Squared Error** has a lot of theoretical advantages, which will be discussed later on."
   ]
  }
 ],
 "metadata": {
  "anaconda-cloud": {},
  "kernelspec": {
   "display_name": "Python 3",
   "language": "python",
   "name": "python3"
  },
  "language_info": {
   "codemirror_mode": {
    "name": "ipython",
    "version": 3
   },
   "file_extension": ".py",
   "mimetype": "text/x-python",
   "name": "python",
   "nbconvert_exporter": "python",
   "pygments_lexer": "ipython3",
   "version": "3.5.2"
  },
  "toc": {
   "colors": {
    "hover_highlight": "#DAA520",
    "running_highlight": "#FF0000",
    "selected_highlight": "#FFD700"
   },
   "moveMenuLeft": true,
   "nav_menu": {
    "height": "280px",
    "width": "252px"
   },
   "navigate_menu": true,
   "number_sections": true,
   "sideBar": true,
   "threshold": 4,
   "toc_cell": false,
   "toc_section_display": "block",
   "toc_window_display": false
  }
 },
 "nbformat": 4,
 "nbformat_minor": 0
}
