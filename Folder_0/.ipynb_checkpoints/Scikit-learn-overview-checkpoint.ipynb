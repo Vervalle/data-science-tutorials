{
 "cells": [
  {
   "cell_type": "markdown",
   "metadata": {},
   "source": [
    "# Overview on Machine Learning\n",
    "\n",
    "\n",
    "<div class=\"alert alert-warning\">\n",
    "A computer program is said to learn from experience with respect to some class of tasks and a performance measure,\n",
    "if its performance at the tasks improves with the experience (Mitchel 1997).\n",
    "</div>\n",
    "\n",
    "<p/>\n",
    "<div class=\"alert alert-warning\">\n",
    "\n",
    "Machine Learning creates **formal models** from **observations**. The **models** are used to predict properties of **future observations** or **aggregate and describe** observations.\n",
    "</div>\n",
    "\n",
    "**Example**\n",
    "\n",
    "Lets assume we have collected a data set about cars:\n",
    "\n",
    "|Customer Group| Model | Mileage | Power | Price |\n",
    "|-|-|-|-|-|\n",
    "|Family| Renault Scienic | 50,000 | 132 | 5,000|\n",
    "|Upper Class | Porsche Carrera | 10,000 | 332 | 50,000|\n",
    "|Family | Touran  | 80,000 | 90 | 15,000|\n",
    "| ... | ... | ... | ... | ... |\n",
    "|?| Wonder Car| 500 | 4000 | ?|\n",
    "\n",
    "- Given a large set of cars, can we group together cars with similar price, power and mileage?\n",
    "- Can we predict the price of a new car given mileage and power?\n",
    "- Can we predict the customer group?\n",
    "- What kind of cars do upper class people drive?\n",
    "\n",
    "\n",
    "### Real World Applications\n",
    "\n",
    "- Image Analysis: Face Recognition, Object Detection, Self-driving Cars\n",
    "- Text Analysis: POS Tagging, Named Entity Recognition, Speech-to-Text Analysis\n",
    "- Robotics\n",
    "- E-Commerce\n",
    "- Information Retrieval and Recommender Systems\n",
    "- $\\ldots$\n",
    "\n",
    "\n",
    "## General Approach\n",
    "\n",
    "The usual machine learning setup is:\n",
    "\n",
    "1. **$n$ data samples** (e.g. $n$ cars), representing the past experience\n",
    "2. Every data sample is described by a **set of d features/attributes** (e.g. horsepower and price of the car)\n",
    "\n",
    "|$Attribut_1$|$Attribut_2$|$\\ldots$|$Attribut_d$|\n",
    "|-|-|-|-|\n",
    "|$Attribut_1$ of $Example_1$|$Attribut_2$ of $Example_1$ |$\\ldots$|$Attribut_d$ of $Example_1$|\n",
    "|$Attribut_1$ of $Example_2$|$Attribut_2$ of $Example_2$ |$\\ldots$|$Attribut_d$ of $Example_2$|\n",
    "|$\\ldots$|$\\ldots$|$\\ldots$|$\\ldots$|\n",
    "|$Attribut_d$ of $Example_n$|$Attribut_2$ of $Example_n$ |$\\ldots$|$Attribut_d$ of $Example_n$|\n",
    "\n",
    "Machine learning estimates a **model** (also called hypothesis) that **'best' fits the data**. Fitting means the model\n",
    "\n",
    "1. **predicts** features of yet unkown examples (e.g. predict the class a flower belongs to)\n",
    "2. **describes** properties of the examples (e.g. points belonging togehter)\n",
    "\n",
    "Building such a model is called learning, training or model fitting.\n",
    "\n",
    "Using such a model is often call \"testing\", \"model estimation\" or \"inference step\".\n",
    "\n",
    "Converting data into the necessary format for learning and testing is called **preprocessing**"
   ]
  },
  {
   "cell_type": "code",
   "execution_count": null,
   "metadata": {
    "collapsed": true
   },
   "outputs": [],
   "source": []
  }
 ],
 "metadata": {
  "anaconda-cloud": {},
  "kernelspec": {
   "display_name": "Python 3",
   "language": "python",
   "name": "python3"
  },
  "language_info": {
   "codemirror_mode": {
    "name": "ipython",
    "version": 3
   },
   "file_extension": ".py",
   "mimetype": "text/x-python",
   "name": "python",
   "nbconvert_exporter": "python",
   "pygments_lexer": "ipython3",
   "version": "3.5.2"
  },
  "toc": {
   "colors": {
    "hover_highlight": "#DAA520",
    "running_highlight": "#FF0000",
    "selected_highlight": "#FFD700"
   },
   "moveMenuLeft": true,
   "nav_menu": {
    "height": "68px",
    "width": "252px"
   },
   "navigate_menu": true,
   "number_sections": true,
   "sideBar": true,
   "threshold": 4,
   "toc_cell": false,
   "toc_section_display": "block",
   "toc_window_display": false
  }
 },
 "nbformat": 4,
 "nbformat_minor": 2
}
