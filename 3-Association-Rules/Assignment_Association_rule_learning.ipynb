{
 "cells": [
  {
   "cell_type": "markdown",
   "metadata": {},
   "source": [
    "# Exercise: Association Rule Learning\n",
    "#### Predicting clicks on KDD cup Dataset\n",
    "\n",
    "### Introduction\n",
    "\n",
    "The goal of this exercise is to implement assocition rule learning on the KDD Cup 2000 Dataset.\n",
    "\n",
    "We will cover\n",
    "\n",
    "- ~Q1: Calculate frequent itemsets for browsing history contained in KDD Cup Dataset, e.g. which sites are visited frequently after each other\n",
    "- ~Q2: as Q1 but with sites-visited *and* products\n",
    "- ~Q3: Mine for Association Rules between User Profiles and Purchase Probablity, e.g. Male Users over 40 who visit the page for a second time are very likely to make a purchase."
   ]
  }
 ],
 "metadata": {
  "anaconda-cloud": {},
  "kernelspec": {
   "display_name": "Python 3",
   "language": "python",
   "name": "python3"
  },
  "language_info": {
   "codemirror_mode": {
    "name": "ipython",
    "version": 3
   },
   "file_extension": ".py",
   "mimetype": "text/x-python",
   "name": "python",
   "nbconvert_exporter": "python",
   "pygments_lexer": "ipython3",
   "version": "3.5.2"
  },
  "toc": {
   "colors": {
    "hover_highlight": "#DAA520",
    "running_highlight": "#FF0000",
    "selected_highlight": "#FFD700"
   },
   "moveMenuLeft": true,
   "nav_menu": {
    "height": "76px",
    "width": "252px"
   },
   "navigate_menu": true,
   "number_sections": true,
   "sideBar": true,
   "threshold": 4,
   "toc_cell": false,
   "toc_section_display": "block",
   "toc_window_display": false
  }
 },
 "nbformat": 4,
 "nbformat_minor": 2
}
